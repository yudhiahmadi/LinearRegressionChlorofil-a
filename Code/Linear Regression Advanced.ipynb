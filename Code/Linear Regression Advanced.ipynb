{
 "cells": [
  {
   "cell_type": "code",
   "execution_count": 1,
   "id": "9f5237ec",
   "metadata": {},
   "outputs": [],
   "source": [
    "import numpy as np\n",
    "import pandas as pd\n",
    "import statsmodels.api as sm\n",
    "import matplotlib.pyplot as plt\n",
    "from sklearn.linear_model import LinearRegression\n",
    "import seaborn as sns\n",
    "sns.set()"
   ]
  },
  {
   "cell_type": "code",
   "execution_count": 2,
   "id": "f342424f",
   "metadata": {},
   "outputs": [],
   "source": [
    "raw_data = pd.read_csv('datakelautan.csv')"
   ]
  },
  {
   "cell_type": "code",
   "execution_count": 3,
   "id": "2c95590c",
   "metadata": {},
   "outputs": [
    {
     "data": {
      "text/html": [
       "<div>\n",
       "<style scoped>\n",
       "    .dataframe tbody tr th:only-of-type {\n",
       "        vertical-align: middle;\n",
       "    }\n",
       "\n",
       "    .dataframe tbody tr th {\n",
       "        vertical-align: top;\n",
       "    }\n",
       "\n",
       "    .dataframe thead th {\n",
       "        text-align: right;\n",
       "    }\n",
       "</style>\n",
       "<table border=\"1\" class=\"dataframe\">\n",
       "  <thead>\n",
       "    <tr style=\"text-align: right;\">\n",
       "      <th></th>\n",
       "      <th>yyyy-mm-ddThh:mm:ss.sss</th>\n",
       "      <th>Longitude [degrees_east]</th>\n",
       "      <th>Latitude [degrees_north]</th>\n",
       "      <th>chl [mg m-3]</th>\n",
       "      <th>depth [m]</th>\n",
       "      <th>no3 [mmol m-3]</th>\n",
       "      <th>o2 [mmol m-3]</th>\n",
       "      <th>ph [1]</th>\n",
       "      <th>phyc [mmol m-3]</th>\n",
       "      <th>po4 [mmol m-3]</th>\n",
       "      <th>si [mmol m-3]</th>\n",
       "    </tr>\n",
       "  </thead>\n",
       "  <tbody>\n",
       "    <tr>\n",
       "      <th>0</th>\n",
       "      <td>2022-02-01T12:00:00</td>\n",
       "      <td>95.0</td>\n",
       "      <td>-11.0</td>\n",
       "      <td>0.09910</td>\n",
       "      <td>0.49402</td>\n",
       "      <td>0.00280</td>\n",
       "      <td>201.93959</td>\n",
       "      <td>8.02707</td>\n",
       "      <td>1.83672</td>\n",
       "      <td>0.06041</td>\n",
       "      <td>3.02433</td>\n",
       "    </tr>\n",
       "    <tr>\n",
       "      <th>1</th>\n",
       "      <td>2022-02-01T12:00:00</td>\n",
       "      <td>95.5</td>\n",
       "      <td>-11.0</td>\n",
       "      <td>0.09933</td>\n",
       "      <td>0.49402</td>\n",
       "      <td>0.00295</td>\n",
       "      <td>201.82983</td>\n",
       "      <td>8.02721</td>\n",
       "      <td>1.84343</td>\n",
       "      <td>0.06002</td>\n",
       "      <td>3.01754</td>\n",
       "    </tr>\n",
       "    <tr>\n",
       "      <th>2</th>\n",
       "      <td>2022-02-01T12:00:00</td>\n",
       "      <td>96.0</td>\n",
       "      <td>-11.0</td>\n",
       "      <td>0.09967</td>\n",
       "      <td>0.49402</td>\n",
       "      <td>0.00306</td>\n",
       "      <td>201.77855</td>\n",
       "      <td>8.02654</td>\n",
       "      <td>1.83328</td>\n",
       "      <td>0.06220</td>\n",
       "      <td>2.98639</td>\n",
       "    </tr>\n",
       "    <tr>\n",
       "      <th>3</th>\n",
       "      <td>2022-02-01T12:00:00</td>\n",
       "      <td>96.5</td>\n",
       "      <td>-11.0</td>\n",
       "      <td>0.09939</td>\n",
       "      <td>0.49402</td>\n",
       "      <td>0.00333</td>\n",
       "      <td>201.45436</td>\n",
       "      <td>8.02466</td>\n",
       "      <td>1.81943</td>\n",
       "      <td>0.06917</td>\n",
       "      <td>2.93559</td>\n",
       "    </tr>\n",
       "    <tr>\n",
       "      <th>4</th>\n",
       "      <td>2022-02-01T12:00:00</td>\n",
       "      <td>97.0</td>\n",
       "      <td>-11.0</td>\n",
       "      <td>0.09993</td>\n",
       "      <td>0.49402</td>\n",
       "      <td>0.00394</td>\n",
       "      <td>201.26645</td>\n",
       "      <td>8.02311</td>\n",
       "      <td>1.81756</td>\n",
       "      <td>0.07204</td>\n",
       "      <td>2.92603</td>\n",
       "    </tr>\n",
       "  </tbody>\n",
       "</table>\n",
       "</div>"
      ],
      "text/plain": [
       "  yyyy-mm-ddThh:mm:ss.sss  Longitude [degrees_east]  Latitude [degrees_north]  \\\n",
       "0     2022-02-01T12:00:00                      95.0                     -11.0   \n",
       "1     2022-02-01T12:00:00                      95.5                     -11.0   \n",
       "2     2022-02-01T12:00:00                      96.0                     -11.0   \n",
       "3     2022-02-01T12:00:00                      96.5                     -11.0   \n",
       "4     2022-02-01T12:00:00                      97.0                     -11.0   \n",
       "\n",
       "   chl [mg m-3]  depth [m]  no3 [mmol m-3]  o2 [mmol m-3]   ph [1]  \\\n",
       "0       0.09910    0.49402         0.00280      201.93959  8.02707   \n",
       "1       0.09933    0.49402         0.00295      201.82983  8.02721   \n",
       "2       0.09967    0.49402         0.00306      201.77855  8.02654   \n",
       "3       0.09939    0.49402         0.00333      201.45436  8.02466   \n",
       "4       0.09993    0.49402         0.00394      201.26645  8.02311   \n",
       "\n",
       "   phyc [mmol m-3]  po4 [mmol m-3]  si [mmol m-3]  \n",
       "0          1.83672         0.06041        3.02433  \n",
       "1          1.84343         0.06002        3.01754  \n",
       "2          1.83328         0.06220        2.98639  \n",
       "3          1.81943         0.06917        2.93559  \n",
       "4          1.81756         0.07204        2.92603  "
      ]
     },
     "execution_count": 3,
     "metadata": {},
     "output_type": "execute_result"
    }
   ],
   "source": [
    "raw_data.head()"
   ]
  },
  {
   "cell_type": "code",
   "execution_count": 4,
   "id": "37acedc7",
   "metadata": {},
   "outputs": [
    {
     "data": {
      "text/html": [
       "<div>\n",
       "<style scoped>\n",
       "    .dataframe tbody tr th:only-of-type {\n",
       "        vertical-align: middle;\n",
       "    }\n",
       "\n",
       "    .dataframe tbody tr th {\n",
       "        vertical-align: top;\n",
       "    }\n",
       "\n",
       "    .dataframe thead th {\n",
       "        text-align: right;\n",
       "    }\n",
       "</style>\n",
       "<table border=\"1\" class=\"dataframe\">\n",
       "  <thead>\n",
       "    <tr style=\"text-align: right;\">\n",
       "      <th></th>\n",
       "      <th>yyyy-mm-ddThh:mm:ss.sss</th>\n",
       "      <th>Longitude [degrees_east]</th>\n",
       "      <th>Latitude [degrees_north]</th>\n",
       "      <th>chl [mg m-3]</th>\n",
       "      <th>depth [m]</th>\n",
       "      <th>no3 [mmol m-3]</th>\n",
       "      <th>o2 [mmol m-3]</th>\n",
       "      <th>ph [1]</th>\n",
       "      <th>phyc [mmol m-3]</th>\n",
       "      <th>po4 [mmol m-3]</th>\n",
       "      <th>si [mmol m-3]</th>\n",
       "    </tr>\n",
       "  </thead>\n",
       "  <tbody>\n",
       "    <tr>\n",
       "      <th>count</th>\n",
       "      <td>801306</td>\n",
       "      <td>801306.000000</td>\n",
       "      <td>801306.000000</td>\n",
       "      <td>579216.000000</td>\n",
       "      <td>801306.000000</td>\n",
       "      <td>579216.000000</td>\n",
       "      <td>579216.000000</td>\n",
       "      <td>579216.000000</td>\n",
       "      <td>579216.000000</td>\n",
       "      <td>579216.000000</td>\n",
       "      <td>579216.000000</td>\n",
       "    </tr>\n",
       "    <tr>\n",
       "      <th>unique</th>\n",
       "      <td>11</td>\n",
       "      <td>NaN</td>\n",
       "      <td>NaN</td>\n",
       "      <td>NaN</td>\n",
       "      <td>NaN</td>\n",
       "      <td>NaN</td>\n",
       "      <td>NaN</td>\n",
       "      <td>NaN</td>\n",
       "      <td>NaN</td>\n",
       "      <td>NaN</td>\n",
       "      <td>NaN</td>\n",
       "    </tr>\n",
       "    <tr>\n",
       "      <th>top</th>\n",
       "      <td>2022-02-01T12:00:00</td>\n",
       "      <td>NaN</td>\n",
       "      <td>NaN</td>\n",
       "      <td>NaN</td>\n",
       "      <td>NaN</td>\n",
       "      <td>NaN</td>\n",
       "      <td>NaN</td>\n",
       "      <td>NaN</td>\n",
       "      <td>NaN</td>\n",
       "      <td>NaN</td>\n",
       "      <td>NaN</td>\n",
       "    </tr>\n",
       "    <tr>\n",
       "      <th>freq</th>\n",
       "      <td>74865</td>\n",
       "      <td>NaN</td>\n",
       "      <td>NaN</td>\n",
       "      <td>NaN</td>\n",
       "      <td>NaN</td>\n",
       "      <td>NaN</td>\n",
       "      <td>NaN</td>\n",
       "      <td>NaN</td>\n",
       "      <td>NaN</td>\n",
       "      <td>NaN</td>\n",
       "      <td>NaN</td>\n",
       "    </tr>\n",
       "    <tr>\n",
       "      <th>mean</th>\n",
       "      <td>NaN</td>\n",
       "      <td>118.042657</td>\n",
       "      <td>-2.522933</td>\n",
       "      <td>0.253921</td>\n",
       "      <td>30.083262</td>\n",
       "      <td>0.907619</td>\n",
       "      <td>195.582851</td>\n",
       "      <td>8.013859</td>\n",
       "      <td>1.488504</td>\n",
       "      <td>0.209228</td>\n",
       "      <td>3.982661</td>\n",
       "    </tr>\n",
       "    <tr>\n",
       "      <th>std</th>\n",
       "      <td>NaN</td>\n",
       "      <td>13.438092</td>\n",
       "      <td>5.071595</td>\n",
       "      <td>0.237301</td>\n",
       "      <td>30.218726</td>\n",
       "      <td>2.397205</td>\n",
       "      <td>16.243926</td>\n",
       "      <td>0.034191</td>\n",
       "      <td>0.803219</td>\n",
       "      <td>0.201850</td>\n",
       "      <td>3.410050</td>\n",
       "    </tr>\n",
       "    <tr>\n",
       "      <th>min</th>\n",
       "      <td>NaN</td>\n",
       "      <td>95.000000</td>\n",
       "      <td>-11.000000</td>\n",
       "      <td>0.033410</td>\n",
       "      <td>0.494020</td>\n",
       "      <td>0.000003</td>\n",
       "      <td>3.487460</td>\n",
       "      <td>7.655740</td>\n",
       "      <td>0.075490</td>\n",
       "      <td>0.000200</td>\n",
       "      <td>0.686820</td>\n",
       "    </tr>\n",
       "    <tr>\n",
       "      <th>25%</th>\n",
       "      <td>NaN</td>\n",
       "      <td>106.500000</td>\n",
       "      <td>-7.000000</td>\n",
       "      <td>0.121360</td>\n",
       "      <td>6.440610</td>\n",
       "      <td>0.002030</td>\n",
       "      <td>197.055530</td>\n",
       "      <td>8.008440</td>\n",
       "      <td>1.180760</td>\n",
       "      <td>0.086790</td>\n",
       "      <td>2.513168</td>\n",
       "    </tr>\n",
       "    <tr>\n",
       "      <th>50%</th>\n",
       "      <td>NaN</td>\n",
       "      <td>118.000000</td>\n",
       "      <td>-2.500000</td>\n",
       "      <td>0.192130</td>\n",
       "      <td>18.495560</td>\n",
       "      <td>0.004230</td>\n",
       "      <td>200.277155</td>\n",
       "      <td>8.023520</td>\n",
       "      <td>1.381910</td>\n",
       "      <td>0.132430</td>\n",
       "      <td>3.083485</td>\n",
       "    </tr>\n",
       "    <tr>\n",
       "      <th>75%</th>\n",
       "      <td>NaN</td>\n",
       "      <td>129.500000</td>\n",
       "      <td>2.000000</td>\n",
       "      <td>0.308940</td>\n",
       "      <td>47.373690</td>\n",
       "      <td>0.303085</td>\n",
       "      <td>202.128852</td>\n",
       "      <td>8.031860</td>\n",
       "      <td>1.607690</td>\n",
       "      <td>0.275720</td>\n",
       "      <td>4.143300</td>\n",
       "    </tr>\n",
       "    <tr>\n",
       "      <th>max</th>\n",
       "      <td>NaN</td>\n",
       "      <td>141.000000</td>\n",
       "      <td>6.000000</td>\n",
       "      <td>11.231770</td>\n",
       "      <td>109.729300</td>\n",
       "      <td>25.897950</td>\n",
       "      <td>227.267750</td>\n",
       "      <td>8.103640</td>\n",
       "      <td>31.377830</td>\n",
       "      <td>1.911260</td>\n",
       "      <td>103.576500</td>\n",
       "    </tr>\n",
       "  </tbody>\n",
       "</table>\n",
       "</div>"
      ],
      "text/plain": [
       "       yyyy-mm-ddThh:mm:ss.sss  Longitude [degrees_east]  \\\n",
       "count                   801306             801306.000000   \n",
       "unique                      11                       NaN   \n",
       "top        2022-02-01T12:00:00                       NaN   \n",
       "freq                     74865                       NaN   \n",
       "mean                       NaN                118.042657   \n",
       "std                        NaN                 13.438092   \n",
       "min                        NaN                 95.000000   \n",
       "25%                        NaN                106.500000   \n",
       "50%                        NaN                118.000000   \n",
       "75%                        NaN                129.500000   \n",
       "max                        NaN                141.000000   \n",
       "\n",
       "        Latitude [degrees_north]   chl [mg m-3]      depth [m]  \\\n",
       "count              801306.000000  579216.000000  801306.000000   \n",
       "unique                       NaN            NaN            NaN   \n",
       "top                          NaN            NaN            NaN   \n",
       "freq                         NaN            NaN            NaN   \n",
       "mean                   -2.522933       0.253921      30.083262   \n",
       "std                     5.071595       0.237301      30.218726   \n",
       "min                   -11.000000       0.033410       0.494020   \n",
       "25%                    -7.000000       0.121360       6.440610   \n",
       "50%                    -2.500000       0.192130      18.495560   \n",
       "75%                     2.000000       0.308940      47.373690   \n",
       "max                     6.000000      11.231770     109.729300   \n",
       "\n",
       "        no3 [mmol m-3]  o2 [mmol m-3]         ph [1]  phyc [mmol m-3]  \\\n",
       "count    579216.000000  579216.000000  579216.000000    579216.000000   \n",
       "unique             NaN            NaN            NaN              NaN   \n",
       "top                NaN            NaN            NaN              NaN   \n",
       "freq               NaN            NaN            NaN              NaN   \n",
       "mean          0.907619     195.582851       8.013859         1.488504   \n",
       "std           2.397205      16.243926       0.034191         0.803219   \n",
       "min           0.000003       3.487460       7.655740         0.075490   \n",
       "25%           0.002030     197.055530       8.008440         1.180760   \n",
       "50%           0.004230     200.277155       8.023520         1.381910   \n",
       "75%           0.303085     202.128852       8.031860         1.607690   \n",
       "max          25.897950     227.267750       8.103640        31.377830   \n",
       "\n",
       "        po4 [mmol m-3]  si [mmol m-3]  \n",
       "count    579216.000000  579216.000000  \n",
       "unique             NaN            NaN  \n",
       "top                NaN            NaN  \n",
       "freq               NaN            NaN  \n",
       "mean          0.209228       3.982661  \n",
       "std           0.201850       3.410050  \n",
       "min           0.000200       0.686820  \n",
       "25%           0.086790       2.513168  \n",
       "50%           0.132430       3.083485  \n",
       "75%           0.275720       4.143300  \n",
       "max           1.911260     103.576500  "
      ]
     },
     "execution_count": 4,
     "metadata": {},
     "output_type": "execute_result"
    }
   ],
   "source": [
    "raw_data.describe(include='all')"
   ]
  },
  {
   "cell_type": "code",
   "execution_count": 5,
   "id": "39e736d8",
   "metadata": {},
   "outputs": [
    {
     "data": {
      "text/html": [
       "<div>\n",
       "<style scoped>\n",
       "    .dataframe tbody tr th:only-of-type {\n",
       "        vertical-align: middle;\n",
       "    }\n",
       "\n",
       "    .dataframe tbody tr th {\n",
       "        vertical-align: top;\n",
       "    }\n",
       "\n",
       "    .dataframe thead th {\n",
       "        text-align: right;\n",
       "    }\n",
       "</style>\n",
       "<table border=\"1\" class=\"dataframe\">\n",
       "  <thead>\n",
       "    <tr style=\"text-align: right;\">\n",
       "      <th></th>\n",
       "      <th>chl [mg m-3]</th>\n",
       "      <th>depth [m]</th>\n",
       "      <th>no3 [mmol m-3]</th>\n",
       "      <th>o2 [mmol m-3]</th>\n",
       "      <th>phyc [mmol m-3]</th>\n",
       "      <th>po4 [mmol m-3]</th>\n",
       "      <th>si [mmol m-3]</th>\n",
       "    </tr>\n",
       "  </thead>\n",
       "  <tbody>\n",
       "    <tr>\n",
       "      <th>count</th>\n",
       "      <td>579216.000000</td>\n",
       "      <td>801306.000000</td>\n",
       "      <td>579216.000000</td>\n",
       "      <td>579216.000000</td>\n",
       "      <td>579216.000000</td>\n",
       "      <td>579216.000000</td>\n",
       "      <td>579216.000000</td>\n",
       "    </tr>\n",
       "    <tr>\n",
       "      <th>mean</th>\n",
       "      <td>0.253921</td>\n",
       "      <td>30.083262</td>\n",
       "      <td>0.907619</td>\n",
       "      <td>195.582851</td>\n",
       "      <td>1.488504</td>\n",
       "      <td>0.209228</td>\n",
       "      <td>3.982661</td>\n",
       "    </tr>\n",
       "    <tr>\n",
       "      <th>std</th>\n",
       "      <td>0.237301</td>\n",
       "      <td>30.218726</td>\n",
       "      <td>2.397205</td>\n",
       "      <td>16.243926</td>\n",
       "      <td>0.803219</td>\n",
       "      <td>0.201850</td>\n",
       "      <td>3.410050</td>\n",
       "    </tr>\n",
       "    <tr>\n",
       "      <th>min</th>\n",
       "      <td>0.033410</td>\n",
       "      <td>0.494020</td>\n",
       "      <td>0.000003</td>\n",
       "      <td>3.487460</td>\n",
       "      <td>0.075490</td>\n",
       "      <td>0.000200</td>\n",
       "      <td>0.686820</td>\n",
       "    </tr>\n",
       "    <tr>\n",
       "      <th>25%</th>\n",
       "      <td>0.121360</td>\n",
       "      <td>6.440610</td>\n",
       "      <td>0.002030</td>\n",
       "      <td>197.055530</td>\n",
       "      <td>1.180760</td>\n",
       "      <td>0.086790</td>\n",
       "      <td>2.513168</td>\n",
       "    </tr>\n",
       "    <tr>\n",
       "      <th>50%</th>\n",
       "      <td>0.192130</td>\n",
       "      <td>18.495560</td>\n",
       "      <td>0.004230</td>\n",
       "      <td>200.277155</td>\n",
       "      <td>1.381910</td>\n",
       "      <td>0.132430</td>\n",
       "      <td>3.083485</td>\n",
       "    </tr>\n",
       "    <tr>\n",
       "      <th>75%</th>\n",
       "      <td>0.308940</td>\n",
       "      <td>47.373690</td>\n",
       "      <td>0.303085</td>\n",
       "      <td>202.128852</td>\n",
       "      <td>1.607690</td>\n",
       "      <td>0.275720</td>\n",
       "      <td>4.143300</td>\n",
       "    </tr>\n",
       "    <tr>\n",
       "      <th>max</th>\n",
       "      <td>11.231770</td>\n",
       "      <td>109.729300</td>\n",
       "      <td>25.897950</td>\n",
       "      <td>227.267750</td>\n",
       "      <td>31.377830</td>\n",
       "      <td>1.911260</td>\n",
       "      <td>103.576500</td>\n",
       "    </tr>\n",
       "  </tbody>\n",
       "</table>\n",
       "</div>"
      ],
      "text/plain": [
       "        chl [mg m-3]      depth [m]  no3 [mmol m-3]  o2 [mmol m-3]  \\\n",
       "count  579216.000000  801306.000000   579216.000000  579216.000000   \n",
       "mean        0.253921      30.083262        0.907619     195.582851   \n",
       "std         0.237301      30.218726        2.397205      16.243926   \n",
       "min         0.033410       0.494020        0.000003       3.487460   \n",
       "25%         0.121360       6.440610        0.002030     197.055530   \n",
       "50%         0.192130      18.495560        0.004230     200.277155   \n",
       "75%         0.308940      47.373690        0.303085     202.128852   \n",
       "max        11.231770     109.729300       25.897950     227.267750   \n",
       "\n",
       "       phyc [mmol m-3]  po4 [mmol m-3]  si [mmol m-3]  \n",
       "count    579216.000000   579216.000000  579216.000000  \n",
       "mean          1.488504        0.209228       3.982661  \n",
       "std           0.803219        0.201850       3.410050  \n",
       "min           0.075490        0.000200       0.686820  \n",
       "25%           1.180760        0.086790       2.513168  \n",
       "50%           1.381910        0.132430       3.083485  \n",
       "75%           1.607690        0.275720       4.143300  \n",
       "max          31.377830        1.911260     103.576500  "
      ]
     },
     "execution_count": 5,
     "metadata": {},
     "output_type": "execute_result"
    }
   ],
   "source": [
    "data = raw_data.drop(['yyyy-mm-ddThh:mm:ss.sss', 'ph [1]', 'Longitude [degrees_east]', 'Latitude [degrees_north]'],axis=1)\n",
    "data.describe(include='all')"
   ]
  },
  {
   "cell_type": "code",
   "execution_count": 6,
   "id": "4b4308ca",
   "metadata": {},
   "outputs": [
    {
     "data": {
      "text/plain": [
       "chl [mg m-3]       222090\n",
       "depth [m]               0\n",
       "no3 [mmol m-3]     222090\n",
       "o2 [mmol m-3]      222090\n",
       "phyc [mmol m-3]    222090\n",
       "po4 [mmol m-3]     222090\n",
       "si [mmol m-3]      222090\n",
       "dtype: int64"
      ]
     },
     "execution_count": 6,
     "metadata": {},
     "output_type": "execute_result"
    }
   ],
   "source": [
    "data.isnull().sum()"
   ]
  },
  {
   "cell_type": "code",
   "execution_count": 7,
   "id": "dda09a42",
   "metadata": {},
   "outputs": [
    {
     "data": {
      "text/plain": [
       "chl [mg m-3]       0\n",
       "depth [m]          0\n",
       "no3 [mmol m-3]     0\n",
       "o2 [mmol m-3]      0\n",
       "phyc [mmol m-3]    0\n",
       "po4 [mmol m-3]     0\n",
       "si [mmol m-3]      0\n",
       "dtype: int64"
      ]
     },
     "execution_count": 7,
     "metadata": {},
     "output_type": "execute_result"
    }
   ],
   "source": [
    "data_no_nv = data.dropna(axis=0)\n",
    "data_no_nv.isnull().sum()"
   ]
  },
  {
   "cell_type": "code",
   "execution_count": 8,
   "id": "3d605b93",
   "metadata": {},
   "outputs": [
    {
     "data": {
      "text/html": [
       "<div>\n",
       "<style scoped>\n",
       "    .dataframe tbody tr th:only-of-type {\n",
       "        vertical-align: middle;\n",
       "    }\n",
       "\n",
       "    .dataframe tbody tr th {\n",
       "        vertical-align: top;\n",
       "    }\n",
       "\n",
       "    .dataframe thead th {\n",
       "        text-align: right;\n",
       "    }\n",
       "</style>\n",
       "<table border=\"1\" class=\"dataframe\">\n",
       "  <thead>\n",
       "    <tr style=\"text-align: right;\">\n",
       "      <th></th>\n",
       "      <th>chl [mg m-3]</th>\n",
       "      <th>depth [m]</th>\n",
       "      <th>no3 [mmol m-3]</th>\n",
       "      <th>o2 [mmol m-3]</th>\n",
       "      <th>phyc [mmol m-3]</th>\n",
       "      <th>po4 [mmol m-3]</th>\n",
       "      <th>si [mmol m-3]</th>\n",
       "    </tr>\n",
       "  </thead>\n",
       "  <tbody>\n",
       "    <tr>\n",
       "      <th>count</th>\n",
       "      <td>579216.000000</td>\n",
       "      <td>579216.000000</td>\n",
       "      <td>579216.000000</td>\n",
       "      <td>579216.000000</td>\n",
       "      <td>579216.000000</td>\n",
       "      <td>579216.000000</td>\n",
       "      <td>579216.000000</td>\n",
       "    </tr>\n",
       "    <tr>\n",
       "      <th>mean</th>\n",
       "      <td>0.253921</td>\n",
       "      <td>27.210013</td>\n",
       "      <td>0.907619</td>\n",
       "      <td>195.582851</td>\n",
       "      <td>1.488504</td>\n",
       "      <td>0.209228</td>\n",
       "      <td>3.982661</td>\n",
       "    </tr>\n",
       "    <tr>\n",
       "      <th>std</th>\n",
       "      <td>0.237301</td>\n",
       "      <td>28.557158</td>\n",
       "      <td>2.397205</td>\n",
       "      <td>16.243926</td>\n",
       "      <td>0.803219</td>\n",
       "      <td>0.201850</td>\n",
       "      <td>3.410050</td>\n",
       "    </tr>\n",
       "    <tr>\n",
       "      <th>min</th>\n",
       "      <td>0.033410</td>\n",
       "      <td>0.494020</td>\n",
       "      <td>0.000003</td>\n",
       "      <td>3.487460</td>\n",
       "      <td>0.075490</td>\n",
       "      <td>0.000200</td>\n",
       "      <td>0.686820</td>\n",
       "    </tr>\n",
       "    <tr>\n",
       "      <th>25%</th>\n",
       "      <td>0.121360</td>\n",
       "      <td>6.440610</td>\n",
       "      <td>0.002030</td>\n",
       "      <td>197.055530</td>\n",
       "      <td>1.180760</td>\n",
       "      <td>0.086790</td>\n",
       "      <td>2.513168</td>\n",
       "    </tr>\n",
       "    <tr>\n",
       "      <th>50%</th>\n",
       "      <td>0.192130</td>\n",
       "      <td>15.810070</td>\n",
       "      <td>0.004230</td>\n",
       "      <td>200.277155</td>\n",
       "      <td>1.381910</td>\n",
       "      <td>0.132430</td>\n",
       "      <td>3.083485</td>\n",
       "    </tr>\n",
       "    <tr>\n",
       "      <th>75%</th>\n",
       "      <td>0.308940</td>\n",
       "      <td>40.344050</td>\n",
       "      <td>0.303085</td>\n",
       "      <td>202.128852</td>\n",
       "      <td>1.607690</td>\n",
       "      <td>0.275720</td>\n",
       "      <td>4.143300</td>\n",
       "    </tr>\n",
       "    <tr>\n",
       "      <th>max</th>\n",
       "      <td>11.231770</td>\n",
       "      <td>109.729300</td>\n",
       "      <td>25.897950</td>\n",
       "      <td>227.267750</td>\n",
       "      <td>31.377830</td>\n",
       "      <td>1.911260</td>\n",
       "      <td>103.576500</td>\n",
       "    </tr>\n",
       "  </tbody>\n",
       "</table>\n",
       "</div>"
      ],
      "text/plain": [
       "        chl [mg m-3]      depth [m]  no3 [mmol m-3]  o2 [mmol m-3]  \\\n",
       "count  579216.000000  579216.000000   579216.000000  579216.000000   \n",
       "mean        0.253921      27.210013        0.907619     195.582851   \n",
       "std         0.237301      28.557158        2.397205      16.243926   \n",
       "min         0.033410       0.494020        0.000003       3.487460   \n",
       "25%         0.121360       6.440610        0.002030     197.055530   \n",
       "50%         0.192130      15.810070        0.004230     200.277155   \n",
       "75%         0.308940      40.344050        0.303085     202.128852   \n",
       "max        11.231770     109.729300       25.897950     227.267750   \n",
       "\n",
       "       phyc [mmol m-3]  po4 [mmol m-3]  si [mmol m-3]  \n",
       "count    579216.000000   579216.000000  579216.000000  \n",
       "mean          1.488504        0.209228       3.982661  \n",
       "std           0.803219        0.201850       3.410050  \n",
       "min           0.075490        0.000200       0.686820  \n",
       "25%           1.180760        0.086790       2.513168  \n",
       "50%           1.381910        0.132430       3.083485  \n",
       "75%           1.607690        0.275720       4.143300  \n",
       "max          31.377830        1.911260     103.576500  "
      ]
     },
     "execution_count": 8,
     "metadata": {},
     "output_type": "execute_result"
    }
   ],
   "source": [
    "data_no_nv.describe(include='all')"
   ]
  },
  {
   "cell_type": "code",
   "execution_count": 9,
   "id": "daaec753",
   "metadata": {},
   "outputs": [
    {
     "name": "stderr",
     "output_type": "stream",
     "text": [
      "C:\\Users\\ydhi\\anaconda3\\lib\\site-packages\\seaborn\\distributions.py:2619: FutureWarning: `distplot` is a deprecated function and will be removed in a future version. Please adapt your code to use either `displot` (a figure-level function with similar flexibility) or `histplot` (an axes-level function for histograms).\n",
      "  warnings.warn(msg, FutureWarning)\n"
     ]
    },
    {
     "data": {
      "text/plain": [
       "<AxesSubplot:xlabel='chl [mg m-3]', ylabel='Density'>"
      ]
     },
     "execution_count": 9,
     "metadata": {},
     "output_type": "execute_result"
    },
    {
     "data": {
      "image/png": "[encoded data removed]",
      "text/plain": [
       "<Figure size 432x288 with 1 Axes>"
      ]
     },
     "metadata": {},
     "output_type": "display_data"
    }
   ],
   "source": [
    "sns.distplot(data_no_nv['chl [mg m-3]'])"
   ]
  },
  {
   "cell_type": "code",
   "execution_count": 10,
   "id": "a795dd23",
   "metadata": {},
   "outputs": [
    {
     "data": {
      "text/html": [
       "<div>\n",
       "<style scoped>\n",
       "    .dataframe tbody tr th:only-of-type {\n",
       "        vertical-align: middle;\n",
       "    }\n",
       "\n",
       "    .dataframe tbody tr th {\n",
       "        vertical-align: top;\n",
       "    }\n",
       "\n",
       "    .dataframe thead th {\n",
       "        text-align: right;\n",
       "    }\n",
       "</style>\n",
       "<table border=\"1\" class=\"dataframe\">\n",
       "  <thead>\n",
       "    <tr style=\"text-align: right;\">\n",
       "      <th></th>\n",
       "      <th>chl [mg m-3]</th>\n",
       "      <th>depth [m]</th>\n",
       "      <th>no3 [mmol m-3]</th>\n",
       "      <th>o2 [mmol m-3]</th>\n",
       "      <th>phyc [mmol m-3]</th>\n",
       "      <th>po4 [mmol m-3]</th>\n",
       "      <th>si [mmol m-3]</th>\n",
       "    </tr>\n",
       "  </thead>\n",
       "  <tbody>\n",
       "    <tr>\n",
       "      <th>count</th>\n",
       "      <td>573423.000000</td>\n",
       "      <td>573423.000000</td>\n",
       "      <td>573423.000000</td>\n",
       "      <td>573423.000000</td>\n",
       "      <td>573423.000000</td>\n",
       "      <td>573423.000000</td>\n",
       "      <td>573423.000000</td>\n",
       "    </tr>\n",
       "    <tr>\n",
       "      <th>mean</th>\n",
       "      <td>0.237528</td>\n",
       "      <td>27.208154</td>\n",
       "      <td>0.904701</td>\n",
       "      <td>195.550532</td>\n",
       "      <td>1.437882</td>\n",
       "      <td>0.209221</td>\n",
       "      <td>3.919122</td>\n",
       "    </tr>\n",
       "    <tr>\n",
       "      <th>std</th>\n",
       "      <td>0.155713</td>\n",
       "      <td>28.653780</td>\n",
       "      <td>2.401289</td>\n",
       "      <td>16.199783</td>\n",
       "      <td>0.558446</td>\n",
       "      <td>0.201910</td>\n",
       "      <td>2.963601</td>\n",
       "    </tr>\n",
       "    <tr>\n",
       "      <th>min</th>\n",
       "      <td>0.033410</td>\n",
       "      <td>0.494020</td>\n",
       "      <td>0.000003</td>\n",
       "      <td>3.487460</td>\n",
       "      <td>0.075490</td>\n",
       "      <td>0.000200</td>\n",
       "      <td>0.702950</td>\n",
       "    </tr>\n",
       "    <tr>\n",
       "      <th>25%</th>\n",
       "      <td>0.121030</td>\n",
       "      <td>6.440610</td>\n",
       "      <td>0.002010</td>\n",
       "      <td>197.062680</td>\n",
       "      <td>1.178340</td>\n",
       "      <td>0.086760</td>\n",
       "      <td>2.510550</td>\n",
       "    </tr>\n",
       "    <tr>\n",
       "      <th>50%</th>\n",
       "      <td>0.189250</td>\n",
       "      <td>15.810070</td>\n",
       "      <td>0.004150</td>\n",
       "      <td>200.267780</td>\n",
       "      <td>1.378310</td>\n",
       "      <td>0.132140</td>\n",
       "      <td>3.075170</td>\n",
       "    </tr>\n",
       "    <tr>\n",
       "      <th>75%</th>\n",
       "      <td>0.305500</td>\n",
       "      <td>40.344050</td>\n",
       "      <td>0.280285</td>\n",
       "      <td>202.100570</td>\n",
       "      <td>1.597160</td>\n",
       "      <td>0.275970</td>\n",
       "      <td>4.111810</td>\n",
       "    </tr>\n",
       "    <tr>\n",
       "      <th>max</th>\n",
       "      <td>1.236930</td>\n",
       "      <td>109.729300</td>\n",
       "      <td>25.897950</td>\n",
       "      <td>224.759990</td>\n",
       "      <td>11.830640</td>\n",
       "      <td>1.911260</td>\n",
       "      <td>103.576500</td>\n",
       "    </tr>\n",
       "  </tbody>\n",
       "</table>\n",
       "</div>"
      ],
      "text/plain": [
       "        chl [mg m-3]      depth [m]  no3 [mmol m-3]  o2 [mmol m-3]  \\\n",
       "count  573423.000000  573423.000000   573423.000000  573423.000000   \n",
       "mean        0.237528      27.208154        0.904701     195.550532   \n",
       "std         0.155713      28.653780        2.401289      16.199783   \n",
       "min         0.033410       0.494020        0.000003       3.487460   \n",
       "25%         0.121030       6.440610        0.002010     197.062680   \n",
       "50%         0.189250      15.810070        0.004150     200.267780   \n",
       "75%         0.305500      40.344050        0.280285     202.100570   \n",
       "max         1.236930     109.729300       25.897950     224.759990   \n",
       "\n",
       "       phyc [mmol m-3]  po4 [mmol m-3]  si [mmol m-3]  \n",
       "count    573423.000000   573423.000000  573423.000000  \n",
       "mean          1.437882        0.209221       3.919122  \n",
       "std           0.558446        0.201910       2.963601  \n",
       "min           0.075490        0.000200       0.702950  \n",
       "25%           1.178340        0.086760       2.510550  \n",
       "50%           1.378310        0.132140       3.075170  \n",
       "75%           1.597160        0.275970       4.111810  \n",
       "max          11.830640        1.911260     103.576500  "
      ]
     },
     "execution_count": 10,
     "metadata": {},
     "output_type": "execute_result"
    }
   ],
   "source": [
    "q = data_no_nv['chl [mg m-3]'].quantile(0.99)\n",
    "data_1 = data_no_nv[data_no_nv['chl [mg m-3]']<q]\n",
    "data_1.describe(include='all')"
   ]
  },
  {
   "cell_type": "code",
   "execution_count": 11,
   "id": "2d1bb7ce",
   "metadata": {},
   "outputs": [
    {
     "name": "stderr",
     "output_type": "stream",
     "text": [
      "C:\\Users\\ydhi\\anaconda3\\lib\\site-packages\\seaborn\\distributions.py:2619: FutureWarning: `distplot` is a deprecated function and will be removed in a future version. Please adapt your code to use either `displot` (a figure-level function with similar flexibility) or `histplot` (an axes-level function for histograms).\n",
      "  warnings.warn(msg, FutureWarning)\n"
     ]
    },
    {
     "data": {
      "text/plain": [
       "<AxesSubplot:xlabel='chl [mg m-3]', ylabel='Density'>"
      ]
     },
     "execution_count": 11,
     "metadata": {},
     "output_type": "execute_result"
    },
    {
     "data": {
      "image/png": "[encoded data removed]",
      "text/plain": [
       "<Figure size 432x288 with 1 Axes>"
      ]
     },
     "metadata": {},
     "output_type": "display_data"
    }
   ],
   "source": [
    "sns.distplot(data_1['chl [mg m-3]'])"
   ]
  },
  {
   "cell_type": "code",
   "execution_count": 12,
   "id": "3b23876d",
   "metadata": {},
   "outputs": [
    {
     "name": "stderr",
     "output_type": "stream",
     "text": [
      "C:\\Users\\ydhi\\anaconda3\\lib\\site-packages\\seaborn\\distributions.py:2619: FutureWarning: `distplot` is a deprecated function and will be removed in a future version. Please adapt your code to use either `displot` (a figure-level function with similar flexibility) or `histplot` (an axes-level function for histograms).\n",
      "  warnings.warn(msg, FutureWarning)\n"
     ]
    },
    {
     "data": {
      "text/plain": [
       "<AxesSubplot:xlabel='no3 [mmol m-3]', ylabel='Density'>"
      ]
     },
     "execution_count": 12,
     "metadata": {},
     "output_type": "execute_result"
    },
    {
     "data": {
      "image/png": "[encoded data removed]",
      "text/plain": [
       "<Figure size 432x288 with 1 Axes>"
      ]
     },
     "metadata": {},
     "output_type": "display_data"
    }
   ],
   "source": [
    "sns.distplot(data_1['no3 [mmol m-3]'])"
   ]
  },
  {
   "cell_type": "code",
   "execution_count": 13,
   "id": "debcb908",
   "metadata": {},
   "outputs": [],
   "source": [
    "p = data_1['no3 [mmol m-3]'].quantile(0.99)\n",
    "data_2 = data_1[data_1['no3 [mmol m-3]']<p]"
   ]
  },
  {
   "cell_type": "code",
   "execution_count": 14,
   "id": "e463480d",
   "metadata": {},
   "outputs": [
    {
     "name": "stderr",
     "output_type": "stream",
     "text": [
      "C:\\Users\\ydhi\\anaconda3\\lib\\site-packages\\seaborn\\distributions.py:2619: FutureWarning: `distplot` is a deprecated function and will be removed in a future version. Please adapt your code to use either `displot` (a figure-level function with similar flexibility) or `histplot` (an axes-level function for histograms).\n",
      "  warnings.warn(msg, FutureWarning)\n"
     ]
    },
    {
     "data": {
      "text/plain": [
       "<AxesSubplot:xlabel='no3 [mmol m-3]', ylabel='Density'>"
      ]
     },
     "execution_count": 14,
     "metadata": {},
     "output_type": "execute_result"
    },
    {
     "data": {
      "image/png": "[encoded data removed]",
      "text/plain": [
       "<Figure size 432x288 with 1 Axes>"
      ]
     },
     "metadata": {},
     "output_type": "display_data"
    }
   ],
   "source": [
    "sns.distplot(data_2['no3 [mmol m-3]'])"
   ]
  },
  {
   "cell_type": "code",
   "execution_count": 15,
   "id": "c1b2d9a4",
   "metadata": {},
   "outputs": [
    {
     "name": "stderr",
     "output_type": "stream",
     "text": [
      "C:\\Users\\ydhi\\anaconda3\\lib\\site-packages\\seaborn\\distributions.py:2619: FutureWarning: `distplot` is a deprecated function and will be removed in a future version. Please adapt your code to use either `displot` (a figure-level function with similar flexibility) or `histplot` (an axes-level function for histograms).\n",
      "  warnings.warn(msg, FutureWarning)\n"
     ]
    },
    {
     "data": {
      "text/plain": [
       "<AxesSubplot:xlabel='o2 [mmol m-3]', ylabel='Density'>"
      ]
     },
     "execution_count": 15,
     "metadata": {},
     "output_type": "execute_result"
    },
    {
     "data": {
      "image/png": "[encoded data removed]",
      "text/plain": [
       "<Figure size 432x288 with 1 Axes>"
      ]
     },
     "metadata": {},
     "output_type": "display_data"
    }
   ],
   "source": [
    "sns.distplot(data_2['o2 [mmol m-3]'])"
   ]
  },
  {
   "cell_type": "code",
   "execution_count": 16,
   "id": "4981b667",
   "metadata": {},
   "outputs": [],
   "source": [
    "q = data_2['o2 [mmol m-3]'].quantile(0.01)\n",
    "data_3 = data_2[data_2['o2 [mmol m-3]']>q]"
   ]
  },
  {
   "cell_type": "code",
   "execution_count": 17,
   "id": "432acddf",
   "metadata": {},
   "outputs": [
    {
     "name": "stderr",
     "output_type": "stream",
     "text": [
      "C:\\Users\\ydhi\\anaconda3\\lib\\site-packages\\seaborn\\distributions.py:2619: FutureWarning: `distplot` is a deprecated function and will be removed in a future version. Please adapt your code to use either `displot` (a figure-level function with similar flexibility) or `histplot` (an axes-level function for histograms).\n",
      "  warnings.warn(msg, FutureWarning)\n"
     ]
    },
    {
     "data": {
      "text/plain": [
       "<AxesSubplot:xlabel='o2 [mmol m-3]', ylabel='Density'>"
      ]
     },
     "execution_count": 17,
     "metadata": {},
     "output_type": "execute_result"
    },
    {
     "data": {
      "image/png": "[encoded data removed]",
      "text/plain": [
       "<Figure size 432x288 with 1 Axes>"
      ]
     },
     "metadata": {},
     "output_type": "display_data"
    }
   ],
   "source": [
    "sns.distplot(data_3['o2 [mmol m-3]'])"
   ]
  },
  {
   "cell_type": "code",
   "execution_count": 18,
   "id": "d2724753",
   "metadata": {},
   "outputs": [],
   "source": [
    "data_cleaned = data_3.reset_index(drop=True)"
   ]
  },
  {
   "cell_type": "code",
   "execution_count": 19,
   "id": "b83dbb8d",
   "metadata": {},
   "outputs": [
    {
     "data": {
      "text/html": [
       "<div>\n",
       "<style scoped>\n",
       "    .dataframe tbody tr th:only-of-type {\n",
       "        vertical-align: middle;\n",
       "    }\n",
       "\n",
       "    .dataframe tbody tr th {\n",
       "        vertical-align: top;\n",
       "    }\n",
       "\n",
       "    .dataframe thead th {\n",
       "        text-align: right;\n",
       "    }\n",
       "</style>\n",
       "<table border=\"1\" class=\"dataframe\">\n",
       "  <thead>\n",
       "    <tr style=\"text-align: right;\">\n",
       "      <th></th>\n",
       "      <th>chl [mg m-3]</th>\n",
       "      <th>depth [m]</th>\n",
       "      <th>no3 [mmol m-3]</th>\n",
       "      <th>o2 [mmol m-3]</th>\n",
       "      <th>phyc [mmol m-3]</th>\n",
       "      <th>po4 [mmol m-3]</th>\n",
       "      <th>si [mmol m-3]</th>\n",
       "    </tr>\n",
       "  </thead>\n",
       "  <tbody>\n",
       "    <tr>\n",
       "      <th>0</th>\n",
       "      <td>0.09910</td>\n",
       "      <td>0.49402</td>\n",
       "      <td>0.00280</td>\n",
       "      <td>201.93959</td>\n",
       "      <td>1.83672</td>\n",
       "      <td>0.06041</td>\n",
       "      <td>3.02433</td>\n",
       "    </tr>\n",
       "    <tr>\n",
       "      <th>1</th>\n",
       "      <td>0.09933</td>\n",
       "      <td>0.49402</td>\n",
       "      <td>0.00295</td>\n",
       "      <td>201.82983</td>\n",
       "      <td>1.84343</td>\n",
       "      <td>0.06002</td>\n",
       "      <td>3.01754</td>\n",
       "    </tr>\n",
       "    <tr>\n",
       "      <th>2</th>\n",
       "      <td>0.09967</td>\n",
       "      <td>0.49402</td>\n",
       "      <td>0.00306</td>\n",
       "      <td>201.77855</td>\n",
       "      <td>1.83328</td>\n",
       "      <td>0.06220</td>\n",
       "      <td>2.98639</td>\n",
       "    </tr>\n",
       "    <tr>\n",
       "      <th>3</th>\n",
       "      <td>0.09939</td>\n",
       "      <td>0.49402</td>\n",
       "      <td>0.00333</td>\n",
       "      <td>201.45436</td>\n",
       "      <td>1.81943</td>\n",
       "      <td>0.06917</td>\n",
       "      <td>2.93559</td>\n",
       "    </tr>\n",
       "    <tr>\n",
       "      <th>4</th>\n",
       "      <td>0.09993</td>\n",
       "      <td>0.49402</td>\n",
       "      <td>0.00394</td>\n",
       "      <td>201.26645</td>\n",
       "      <td>1.81756</td>\n",
       "      <td>0.07204</td>\n",
       "      <td>2.92603</td>\n",
       "    </tr>\n",
       "    <tr>\n",
       "      <th>...</th>\n",
       "      <td>...</td>\n",
       "      <td>...</td>\n",
       "      <td>...</td>\n",
       "      <td>...</td>\n",
       "      <td>...</td>\n",
       "      <td>...</td>\n",
       "      <td>...</td>\n",
       "    </tr>\n",
       "    <tr>\n",
       "      <th>562006</th>\n",
       "      <td>0.12542</td>\n",
       "      <td>109.72930</td>\n",
       "      <td>1.86904</td>\n",
       "      <td>184.78323</td>\n",
       "      <td>0.32362</td>\n",
       "      <td>0.36703</td>\n",
       "      <td>2.47903</td>\n",
       "    </tr>\n",
       "    <tr>\n",
       "      <th>562007</th>\n",
       "      <td>0.15281</td>\n",
       "      <td>109.72930</td>\n",
       "      <td>1.85197</td>\n",
       "      <td>185.98671</td>\n",
       "      <td>0.39221</td>\n",
       "      <td>0.35775</td>\n",
       "      <td>2.45600</td>\n",
       "    </tr>\n",
       "    <tr>\n",
       "      <th>562008</th>\n",
       "      <td>0.15100</td>\n",
       "      <td>109.72930</td>\n",
       "      <td>1.75586</td>\n",
       "      <td>185.74280</td>\n",
       "      <td>0.41870</td>\n",
       "      <td>0.36494</td>\n",
       "      <td>2.42927</td>\n",
       "    </tr>\n",
       "    <tr>\n",
       "      <th>562009</th>\n",
       "      <td>0.16022</td>\n",
       "      <td>109.72930</td>\n",
       "      <td>1.96952</td>\n",
       "      <td>182.79945</td>\n",
       "      <td>0.43118</td>\n",
       "      <td>0.39833</td>\n",
       "      <td>2.48200</td>\n",
       "    </tr>\n",
       "    <tr>\n",
       "      <th>562010</th>\n",
       "      <td>0.17039</td>\n",
       "      <td>109.72930</td>\n",
       "      <td>2.30826</td>\n",
       "      <td>180.03502</td>\n",
       "      <td>0.43357</td>\n",
       "      <td>0.43026</td>\n",
       "      <td>2.56515</td>\n",
       "    </tr>\n",
       "  </tbody>\n",
       "</table>\n",
       "<p>562011 rows × 7 columns</p>\n",
       "</div>"
      ],
      "text/plain": [
       "        chl [mg m-3]  depth [m]  no3 [mmol m-3]  o2 [mmol m-3]  \\\n",
       "0            0.09910    0.49402         0.00280      201.93959   \n",
       "1            0.09933    0.49402         0.00295      201.82983   \n",
       "2            0.09967    0.49402         0.00306      201.77855   \n",
       "3            0.09939    0.49402         0.00333      201.45436   \n",
       "4            0.09993    0.49402         0.00394      201.26645   \n",
       "...              ...        ...             ...            ...   \n",
       "562006       0.12542  109.72930         1.86904      184.78323   \n",
       "562007       0.15281  109.72930         1.85197      185.98671   \n",
       "562008       0.15100  109.72930         1.75586      185.74280   \n",
       "562009       0.16022  109.72930         1.96952      182.79945   \n",
       "562010       0.17039  109.72930         2.30826      180.03502   \n",
       "\n",
       "        phyc [mmol m-3]  po4 [mmol m-3]  si [mmol m-3]  \n",
       "0               1.83672         0.06041        3.02433  \n",
       "1               1.84343         0.06002        3.01754  \n",
       "2               1.83328         0.06220        2.98639  \n",
       "3               1.81943         0.06917        2.93559  \n",
       "4               1.81756         0.07204        2.92603  \n",
       "...                 ...             ...            ...  \n",
       "562006          0.32362         0.36703        2.47903  \n",
       "562007          0.39221         0.35775        2.45600  \n",
       "562008          0.41870         0.36494        2.42927  \n",
       "562009          0.43118         0.39833        2.48200  \n",
       "562010          0.43357         0.43026        2.56515  \n",
       "\n",
       "[562011 rows x 7 columns]"
      ]
     },
     "execution_count": 19,
     "metadata": {},
     "output_type": "execute_result"
    }
   ],
   "source": [
    "data_cleaned"
   ]
  },
  {
   "cell_type": "code",
   "execution_count": 20,
   "id": "cbb75e73",
   "metadata": {},
   "outputs": [
    {
     "data": {
      "text/html": [
       "<div>\n",
       "<style scoped>\n",
       "    .dataframe tbody tr th:only-of-type {\n",
       "        vertical-align: middle;\n",
       "    }\n",
       "\n",
       "    .dataframe tbody tr th {\n",
       "        vertical-align: top;\n",
       "    }\n",
       "\n",
       "    .dataframe thead th {\n",
       "        text-align: right;\n",
       "    }\n",
       "</style>\n",
       "<table border=\"1\" class=\"dataframe\">\n",
       "  <thead>\n",
       "    <tr style=\"text-align: right;\">\n",
       "      <th></th>\n",
       "      <th>chl [mg m-3]</th>\n",
       "      <th>depth [m]</th>\n",
       "      <th>no3 [mmol m-3]</th>\n",
       "      <th>o2 [mmol m-3]</th>\n",
       "      <th>phyc [mmol m-3]</th>\n",
       "      <th>po4 [mmol m-3]</th>\n",
       "      <th>si [mmol m-3]</th>\n",
       "    </tr>\n",
       "  </thead>\n",
       "  <tbody>\n",
       "    <tr>\n",
       "      <th>count</th>\n",
       "      <td>562011.000000</td>\n",
       "      <td>562011.000000</td>\n",
       "      <td>562011.000000</td>\n",
       "      <td>562011.000000</td>\n",
       "      <td>562011.000000</td>\n",
       "      <td>562011.000000</td>\n",
       "      <td>562011.000000</td>\n",
       "    </tr>\n",
       "    <tr>\n",
       "      <th>mean</th>\n",
       "      <td>0.236318</td>\n",
       "      <td>25.814367</td>\n",
       "      <td>0.660655</td>\n",
       "      <td>197.143870</td>\n",
       "      <td>1.453299</td>\n",
       "      <td>0.192391</td>\n",
       "      <td>3.691530</td>\n",
       "    </tr>\n",
       "    <tr>\n",
       "      <th>std</th>\n",
       "      <td>0.155782</td>\n",
       "      <td>27.066824</td>\n",
       "      <td>1.639955</td>\n",
       "      <td>11.444415</td>\n",
       "      <td>0.551371</td>\n",
       "      <td>0.162660</td>\n",
       "      <td>2.303318</td>\n",
       "    </tr>\n",
       "    <tr>\n",
       "      <th>min</th>\n",
       "      <td>0.070740</td>\n",
       "      <td>0.494020</td>\n",
       "      <td>0.000003</td>\n",
       "      <td>139.149460</td>\n",
       "      <td>0.182220</td>\n",
       "      <td>0.000200</td>\n",
       "      <td>0.702950</td>\n",
       "    </tr>\n",
       "    <tr>\n",
       "      <th>25%</th>\n",
       "      <td>0.120650</td>\n",
       "      <td>6.440610</td>\n",
       "      <td>0.001990</td>\n",
       "      <td>197.512590</td>\n",
       "      <td>1.191510</td>\n",
       "      <td>0.086180</td>\n",
       "      <td>2.499010</td>\n",
       "    </tr>\n",
       "    <tr>\n",
       "      <th>50%</th>\n",
       "      <td>0.185880</td>\n",
       "      <td>15.810070</td>\n",
       "      <td>0.003990</td>\n",
       "      <td>200.330780</td>\n",
       "      <td>1.385010</td>\n",
       "      <td>0.130060</td>\n",
       "      <td>3.048480</td>\n",
       "    </tr>\n",
       "    <tr>\n",
       "      <th>75%</th>\n",
       "      <td>0.303930</td>\n",
       "      <td>34.434150</td>\n",
       "      <td>0.186520</td>\n",
       "      <td>202.144220</td>\n",
       "      <td>1.603480</td>\n",
       "      <td>0.262370</td>\n",
       "      <td>3.998515</td>\n",
       "    </tr>\n",
       "    <tr>\n",
       "      <th>max</th>\n",
       "      <td>1.236930</td>\n",
       "      <td>109.729300</td>\n",
       "      <td>11.835600</td>\n",
       "      <td>224.759990</td>\n",
       "      <td>11.830640</td>\n",
       "      <td>1.002160</td>\n",
       "      <td>99.160820</td>\n",
       "    </tr>\n",
       "  </tbody>\n",
       "</table>\n",
       "</div>"
      ],
      "text/plain": [
       "        chl [mg m-3]      depth [m]  no3 [mmol m-3]  o2 [mmol m-3]  \\\n",
       "count  562011.000000  562011.000000   562011.000000  562011.000000   \n",
       "mean        0.236318      25.814367        0.660655     197.143870   \n",
       "std         0.155782      27.066824        1.639955      11.444415   \n",
       "min         0.070740       0.494020        0.000003     139.149460   \n",
       "25%         0.120650       6.440610        0.001990     197.512590   \n",
       "50%         0.185880      15.810070        0.003990     200.330780   \n",
       "75%         0.303930      34.434150        0.186520     202.144220   \n",
       "max         1.236930     109.729300       11.835600     224.759990   \n",
       "\n",
       "       phyc [mmol m-3]  po4 [mmol m-3]  si [mmol m-3]  \n",
       "count    562011.000000   562011.000000  562011.000000  \n",
       "mean          1.453299        0.192391       3.691530  \n",
       "std           0.551371        0.162660       2.303318  \n",
       "min           0.182220        0.000200       0.702950  \n",
       "25%           1.191510        0.086180       2.499010  \n",
       "50%           1.385010        0.130060       3.048480  \n",
       "75%           1.603480        0.262370       3.998515  \n",
       "max          11.830640        1.002160      99.160820  "
      ]
     },
     "execution_count": 20,
     "metadata": {},
     "output_type": "execute_result"
    }
   ],
   "source": [
    "data_cleaned.describe(include='all')"
   ]
  },
  {
   "cell_type": "code",
   "execution_count": 21,
   "id": "a8dc9954",
   "metadata": {},
   "outputs": [
    {
     "name": "stderr",
     "output_type": "stream",
     "text": [
      "C:\\Users\\ydhi\\anaconda3\\lib\\site-packages\\seaborn\\distributions.py:2619: FutureWarning: `distplot` is a deprecated function and will be removed in a future version. Please adapt your code to use either `displot` (a figure-level function with similar flexibility) or `histplot` (an axes-level function for histograms).\n",
      "  warnings.warn(msg, FutureWarning)\n"
     ]
    },
    {
     "data": {
      "text/plain": [
       "<AxesSubplot:xlabel='phyc [mmol m-3]', ylabel='Density'>"
      ]
     },
     "execution_count": 21,
     "metadata": {},
     "output_type": "execute_result"
    },
    {
     "data": {
      "image/png": "[encoded data removed]",
      "text/plain": [
       "<Figure size 432x288 with 1 Axes>"
      ]
     },
     "metadata": {},
     "output_type": "display_data"
    }
   ],
   "source": [
    "sns.distplot(data_3['phyc [mmol m-3]'])"
   ]
  },
  {
   "cell_type": "code",
   "execution_count": 22,
   "id": "084e07ee",
   "metadata": {},
   "outputs": [],
   "source": [
    "p = data_3['phyc [mmol m-3]'].quantile(0.99)\n",
    "data_4 = data_3[data_3['phyc [mmol m-3]']<p]"
   ]
  },
  {
   "cell_type": "code",
   "execution_count": 23,
   "id": "15b9ab1e",
   "metadata": {},
   "outputs": [
    {
     "name": "stderr",
     "output_type": "stream",
     "text": [
      "C:\\Users\\ydhi\\anaconda3\\lib\\site-packages\\seaborn\\distributions.py:2619: FutureWarning: `distplot` is a deprecated function and will be removed in a future version. Please adapt your code to use either `displot` (a figure-level function with similar flexibility) or `histplot` (an axes-level function for histograms).\n",
      "  warnings.warn(msg, FutureWarning)\n"
     ]
    },
    {
     "data": {
      "text/plain": [
       "<AxesSubplot:xlabel='phyc [mmol m-3]', ylabel='Density'>"
      ]
     },
     "execution_count": 23,
     "metadata": {},
     "output_type": "execute_result"
    },
    {
     "data": {
      "image/png": "[encoded data removed]",
      "text/plain": [
       "<Figure size 432x288 with 1 Axes>"
      ]
     },
     "metadata": {},
     "output_type": "display_data"
    }
   ],
   "source": [
    "sns.distplot(data_4['phyc [mmol m-3]'])"
   ]
  },
  {
   "cell_type": "code",
   "execution_count": 24,
   "id": "5b58ea32",
   "metadata": {},
   "outputs": [
    {
     "name": "stderr",
     "output_type": "stream",
     "text": [
      "C:\\Users\\ydhi\\anaconda3\\lib\\site-packages\\seaborn\\distributions.py:2619: FutureWarning: `distplot` is a deprecated function and will be removed in a future version. Please adapt your code to use either `displot` (a figure-level function with similar flexibility) or `histplot` (an axes-level function for histograms).\n",
      "  warnings.warn(msg, FutureWarning)\n"
     ]
    },
    {
     "data": {
      "text/plain": [
       "<AxesSubplot:xlabel='po4 [mmol m-3]', ylabel='Density'>"
      ]
     },
     "execution_count": 24,
     "metadata": {},
     "output_type": "execute_result"
    },
    {
     "data": {
      "image/png": "[encoded data removed]",
      "text/plain": [
       "<Figure size 432x288 with 1 Axes>"
      ]
     },
     "metadata": {},
     "output_type": "display_data"
    }
   ],
   "source": [
    "sns.distplot(data_4['po4 [mmol m-3]'])"
   ]
  },
  {
   "cell_type": "code",
   "execution_count": 25,
   "id": "5e454fc8",
   "metadata": {},
   "outputs": [],
   "source": [
    "p = data_4['po4 [mmol m-3]'].quantile(0.99)\n",
    "data_5 = data_4[data_4['po4 [mmol m-3]']<p]"
   ]
  },
  {
   "cell_type": "code",
   "execution_count": 26,
   "id": "cb0c701f",
   "metadata": {},
   "outputs": [
    {
     "name": "stderr",
     "output_type": "stream",
     "text": [
      "C:\\Users\\ydhi\\anaconda3\\lib\\site-packages\\seaborn\\distributions.py:2619: FutureWarning: `distplot` is a deprecated function and will be removed in a future version. Please adapt your code to use either `displot` (a figure-level function with similar flexibility) or `histplot` (an axes-level function for histograms).\n",
      "  warnings.warn(msg, FutureWarning)\n"
     ]
    },
    {
     "data": {
      "text/plain": [
       "<AxesSubplot:xlabel='po4 [mmol m-3]', ylabel='Density'>"
      ]
     },
     "execution_count": 26,
     "metadata": {},
     "output_type": "execute_result"
    },
    {
     "data": {
      "image/png": "[encoded data removed]",
      "text/plain": [
       "<Figure size 432x288 with 1 Axes>"
      ]
     },
     "metadata": {},
     "output_type": "display_data"
    }
   ],
   "source": [
    "sns.distplot(data_5['po4 [mmol m-3]'])"
   ]
  },
  {
   "cell_type": "code",
   "execution_count": 27,
   "id": "9a38e02b",
   "metadata": {},
   "outputs": [
    {
     "name": "stderr",
     "output_type": "stream",
     "text": [
      "C:\\Users\\ydhi\\anaconda3\\lib\\site-packages\\seaborn\\distributions.py:2619: FutureWarning: `distplot` is a deprecated function and will be removed in a future version. Please adapt your code to use either `displot` (a figure-level function with similar flexibility) or `histplot` (an axes-level function for histograms).\n",
      "  warnings.warn(msg, FutureWarning)\n"
     ]
    },
    {
     "data": {
      "text/plain": [
       "<AxesSubplot:xlabel='si [mmol m-3]', ylabel='Density'>"
      ]
     },
     "execution_count": 27,
     "metadata": {},
     "output_type": "execute_result"
    },
    {
     "data": {
      "image/png": "[encoded data removed]",
      "text/plain": [
       "<Figure size 432x288 with 1 Axes>"
      ]
     },
     "metadata": {},
     "output_type": "display_data"
    }
   ],
   "source": [
    "sns.distplot(data_5['si [mmol m-3]'])"
   ]
  },
  {
   "cell_type": "code",
   "execution_count": 28,
   "id": "08a56f89",
   "metadata": {},
   "outputs": [],
   "source": [
    "p = data_5['si [mmol m-3]'].quantile(0.99)\n",
    "data_6 = data_5[data_5['si [mmol m-3]']<p]"
   ]
  },
  {
   "cell_type": "code",
   "execution_count": 29,
   "id": "7f49d1c2",
   "metadata": {},
   "outputs": [
    {
     "name": "stderr",
     "output_type": "stream",
     "text": [
      "C:\\Users\\ydhi\\anaconda3\\lib\\site-packages\\seaborn\\distributions.py:2619: FutureWarning: `distplot` is a deprecated function and will be removed in a future version. Please adapt your code to use either `displot` (a figure-level function with similar flexibility) or `histplot` (an axes-level function for histograms).\n",
      "  warnings.warn(msg, FutureWarning)\n"
     ]
    },
    {
     "data": {
      "text/plain": [
       "<AxesSubplot:xlabel='si [mmol m-3]', ylabel='Density'>"
      ]
     },
     "execution_count": 29,
     "metadata": {},
     "output_type": "execute_result"
    },
    {
     "data": {
      "image/png": "[encoded data removed]",
      "text/plain": [
       "<Figure size 432x288 with 1 Axes>"
      ]
     },
     "metadata": {},
     "output_type": "display_data"
    }
   ],
   "source": [
    "sns.distplot(data_6['si [mmol m-3]'])"
   ]
  },
  {
   "cell_type": "code",
   "execution_count": 30,
   "id": "930a7c7b",
   "metadata": {},
   "outputs": [
    {
     "data": {
      "text/html": [
       "<div>\n",
       "<style scoped>\n",
       "    .dataframe tbody tr th:only-of-type {\n",
       "        vertical-align: middle;\n",
       "    }\n",
       "\n",
       "    .dataframe tbody tr th {\n",
       "        vertical-align: top;\n",
       "    }\n",
       "\n",
       "    .dataframe thead th {\n",
       "        text-align: right;\n",
       "    }\n",
       "</style>\n",
       "<table border=\"1\" class=\"dataframe\">\n",
       "  <thead>\n",
       "    <tr style=\"text-align: right;\">\n",
       "      <th></th>\n",
       "      <th>chl [mg m-3]</th>\n",
       "      <th>depth [m]</th>\n",
       "      <th>no3 [mmol m-3]</th>\n",
       "      <th>o2 [mmol m-3]</th>\n",
       "      <th>phyc [mmol m-3]</th>\n",
       "      <th>po4 [mmol m-3]</th>\n",
       "      <th>si [mmol m-3]</th>\n",
       "    </tr>\n",
       "  </thead>\n",
       "  <tbody>\n",
       "    <tr>\n",
       "      <th>0</th>\n",
       "      <td>0.09910</td>\n",
       "      <td>0.49402</td>\n",
       "      <td>0.00280</td>\n",
       "      <td>201.93959</td>\n",
       "      <td>1.83672</td>\n",
       "      <td>0.06041</td>\n",
       "      <td>3.02433</td>\n",
       "    </tr>\n",
       "    <tr>\n",
       "      <th>1</th>\n",
       "      <td>0.09933</td>\n",
       "      <td>0.49402</td>\n",
       "      <td>0.00295</td>\n",
       "      <td>201.82983</td>\n",
       "      <td>1.84343</td>\n",
       "      <td>0.06002</td>\n",
       "      <td>3.01754</td>\n",
       "    </tr>\n",
       "    <tr>\n",
       "      <th>2</th>\n",
       "      <td>0.09967</td>\n",
       "      <td>0.49402</td>\n",
       "      <td>0.00306</td>\n",
       "      <td>201.77855</td>\n",
       "      <td>1.83328</td>\n",
       "      <td>0.06220</td>\n",
       "      <td>2.98639</td>\n",
       "    </tr>\n",
       "    <tr>\n",
       "      <th>3</th>\n",
       "      <td>0.09939</td>\n",
       "      <td>0.49402</td>\n",
       "      <td>0.00333</td>\n",
       "      <td>201.45436</td>\n",
       "      <td>1.81943</td>\n",
       "      <td>0.06917</td>\n",
       "      <td>2.93559</td>\n",
       "    </tr>\n",
       "    <tr>\n",
       "      <th>4</th>\n",
       "      <td>0.09993</td>\n",
       "      <td>0.49402</td>\n",
       "      <td>0.00394</td>\n",
       "      <td>201.26645</td>\n",
       "      <td>1.81756</td>\n",
       "      <td>0.07204</td>\n",
       "      <td>2.92603</td>\n",
       "    </tr>\n",
       "    <tr>\n",
       "      <th>...</th>\n",
       "      <td>...</td>\n",
       "      <td>...</td>\n",
       "      <td>...</td>\n",
       "      <td>...</td>\n",
       "      <td>...</td>\n",
       "      <td>...</td>\n",
       "      <td>...</td>\n",
       "    </tr>\n",
       "    <tr>\n",
       "      <th>545309</th>\n",
       "      <td>0.12542</td>\n",
       "      <td>109.72930</td>\n",
       "      <td>1.86904</td>\n",
       "      <td>184.78323</td>\n",
       "      <td>0.32362</td>\n",
       "      <td>0.36703</td>\n",
       "      <td>2.47903</td>\n",
       "    </tr>\n",
       "    <tr>\n",
       "      <th>545310</th>\n",
       "      <td>0.15281</td>\n",
       "      <td>109.72930</td>\n",
       "      <td>1.85197</td>\n",
       "      <td>185.98671</td>\n",
       "      <td>0.39221</td>\n",
       "      <td>0.35775</td>\n",
       "      <td>2.45600</td>\n",
       "    </tr>\n",
       "    <tr>\n",
       "      <th>545311</th>\n",
       "      <td>0.15100</td>\n",
       "      <td>109.72930</td>\n",
       "      <td>1.75586</td>\n",
       "      <td>185.74280</td>\n",
       "      <td>0.41870</td>\n",
       "      <td>0.36494</td>\n",
       "      <td>2.42927</td>\n",
       "    </tr>\n",
       "    <tr>\n",
       "      <th>545312</th>\n",
       "      <td>0.16022</td>\n",
       "      <td>109.72930</td>\n",
       "      <td>1.96952</td>\n",
       "      <td>182.79945</td>\n",
       "      <td>0.43118</td>\n",
       "      <td>0.39833</td>\n",
       "      <td>2.48200</td>\n",
       "    </tr>\n",
       "    <tr>\n",
       "      <th>545313</th>\n",
       "      <td>0.17039</td>\n",
       "      <td>109.72930</td>\n",
       "      <td>2.30826</td>\n",
       "      <td>180.03502</td>\n",
       "      <td>0.43357</td>\n",
       "      <td>0.43026</td>\n",
       "      <td>2.56515</td>\n",
       "    </tr>\n",
       "  </tbody>\n",
       "</table>\n",
       "<p>545314 rows × 7 columns</p>\n",
       "</div>"
      ],
      "text/plain": [
       "        chl [mg m-3]  depth [m]  no3 [mmol m-3]  o2 [mmol m-3]  \\\n",
       "0            0.09910    0.49402         0.00280      201.93959   \n",
       "1            0.09933    0.49402         0.00295      201.82983   \n",
       "2            0.09967    0.49402         0.00306      201.77855   \n",
       "3            0.09939    0.49402         0.00333      201.45436   \n",
       "4            0.09993    0.49402         0.00394      201.26645   \n",
       "...              ...        ...             ...            ...   \n",
       "545309       0.12542  109.72930         1.86904      184.78323   \n",
       "545310       0.15281  109.72930         1.85197      185.98671   \n",
       "545311       0.15100  109.72930         1.75586      185.74280   \n",
       "545312       0.16022  109.72930         1.96952      182.79945   \n",
       "545313       0.17039  109.72930         2.30826      180.03502   \n",
       "\n",
       "        phyc [mmol m-3]  po4 [mmol m-3]  si [mmol m-3]  \n",
       "0               1.83672         0.06041        3.02433  \n",
       "1               1.84343         0.06002        3.01754  \n",
       "2               1.83328         0.06220        2.98639  \n",
       "3               1.81943         0.06917        2.93559  \n",
       "4               1.81756         0.07204        2.92603  \n",
       "...                 ...             ...            ...  \n",
       "545309          0.32362         0.36703        2.47903  \n",
       "545310          0.39221         0.35775        2.45600  \n",
       "545311          0.41870         0.36494        2.42927  \n",
       "545312          0.43118         0.39833        2.48200  \n",
       "545313          0.43357         0.43026        2.56515  \n",
       "\n",
       "[545314 rows x 7 columns]"
      ]
     },
     "execution_count": 30,
     "metadata": {},
     "output_type": "execute_result"
    }
   ],
   "source": [
    "data_cleaned = data_6.reset_index(drop=True)\n",
    "data_cleaned"
   ]
  },
  {
   "cell_type": "code",
   "execution_count": 31,
   "id": "df4ba8ff",
   "metadata": {},
   "outputs": [
    {
     "data": {
      "text/html": [
       "<div>\n",
       "<style scoped>\n",
       "    .dataframe tbody tr th:only-of-type {\n",
       "        vertical-align: middle;\n",
       "    }\n",
       "\n",
       "    .dataframe tbody tr th {\n",
       "        vertical-align: top;\n",
       "    }\n",
       "\n",
       "    .dataframe thead th {\n",
       "        text-align: right;\n",
       "    }\n",
       "</style>\n",
       "<table border=\"1\" class=\"dataframe\">\n",
       "  <thead>\n",
       "    <tr style=\"text-align: right;\">\n",
       "      <th></th>\n",
       "      <th>chl [mg m-3]</th>\n",
       "      <th>depth [m]</th>\n",
       "      <th>no3 [mmol m-3]</th>\n",
       "      <th>o2 [mmol m-3]</th>\n",
       "      <th>phyc [mmol m-3]</th>\n",
       "      <th>po4 [mmol m-3]</th>\n",
       "      <th>si [mmol m-3]</th>\n",
       "    </tr>\n",
       "  </thead>\n",
       "  <tbody>\n",
       "    <tr>\n",
       "      <th>count</th>\n",
       "      <td>545314.000000</td>\n",
       "      <td>545314.000000</td>\n",
       "      <td>545314.000000</td>\n",
       "      <td>545314.000000</td>\n",
       "      <td>545314.000000</td>\n",
       "      <td>545314.000000</td>\n",
       "      <td>545314.000000</td>\n",
       "    </tr>\n",
       "    <tr>\n",
       "      <th>mean</th>\n",
       "      <td>0.228091</td>\n",
       "      <td>25.181563</td>\n",
       "      <td>0.572792</td>\n",
       "      <td>197.648476</td>\n",
       "      <td>1.421535</td>\n",
       "      <td>0.187461</td>\n",
       "      <td>3.459106</td>\n",
       "    </tr>\n",
       "    <tr>\n",
       "      <th>std</th>\n",
       "      <td>0.141072</td>\n",
       "      <td>26.131133</td>\n",
       "      <td>1.425995</td>\n",
       "      <td>10.169556</td>\n",
       "      <td>0.413326</td>\n",
       "      <td>0.150988</td>\n",
       "      <td>1.467646</td>\n",
       "    </tr>\n",
       "    <tr>\n",
       "      <th>min</th>\n",
       "      <td>0.070740</td>\n",
       "      <td>0.494020</td>\n",
       "      <td>0.000003</td>\n",
       "      <td>139.179200</td>\n",
       "      <td>0.187310</td>\n",
       "      <td>0.000200</td>\n",
       "      <td>0.702950</td>\n",
       "    </tr>\n",
       "    <tr>\n",
       "      <th>25%</th>\n",
       "      <td>0.119890</td>\n",
       "      <td>6.440610</td>\n",
       "      <td>0.001950</td>\n",
       "      <td>197.730130</td>\n",
       "      <td>1.195970</td>\n",
       "      <td>0.086720</td>\n",
       "      <td>2.484470</td>\n",
       "    </tr>\n",
       "    <tr>\n",
       "      <th>50%</th>\n",
       "      <td>0.180220</td>\n",
       "      <td>15.810070</td>\n",
       "      <td>0.003810</td>\n",
       "      <td>200.330065</td>\n",
       "      <td>1.383380</td>\n",
       "      <td>0.130000</td>\n",
       "      <td>3.017070</td>\n",
       "    </tr>\n",
       "    <tr>\n",
       "      <th>75%</th>\n",
       "      <td>0.298360</td>\n",
       "      <td>34.434150</td>\n",
       "      <td>0.132528</td>\n",
       "      <td>202.099980</td>\n",
       "      <td>1.591217</td>\n",
       "      <td>0.255190</td>\n",
       "      <td>3.854010</td>\n",
       "    </tr>\n",
       "    <tr>\n",
       "      <th>max</th>\n",
       "      <td>1.236900</td>\n",
       "      <td>109.729300</td>\n",
       "      <td>11.756810</td>\n",
       "      <td>221.656710</td>\n",
       "      <td>3.667170</td>\n",
       "      <td>0.731790</td>\n",
       "      <td>10.062280</td>\n",
       "    </tr>\n",
       "  </tbody>\n",
       "</table>\n",
       "</div>"
      ],
      "text/plain": [
       "        chl [mg m-3]      depth [m]  no3 [mmol m-3]  o2 [mmol m-3]  \\\n",
       "count  545314.000000  545314.000000   545314.000000  545314.000000   \n",
       "mean        0.228091      25.181563        0.572792     197.648476   \n",
       "std         0.141072      26.131133        1.425995      10.169556   \n",
       "min         0.070740       0.494020        0.000003     139.179200   \n",
       "25%         0.119890       6.440610        0.001950     197.730130   \n",
       "50%         0.180220      15.810070        0.003810     200.330065   \n",
       "75%         0.298360      34.434150        0.132528     202.099980   \n",
       "max         1.236900     109.729300       11.756810     221.656710   \n",
       "\n",
       "       phyc [mmol m-3]  po4 [mmol m-3]  si [mmol m-3]  \n",
       "count    545314.000000   545314.000000  545314.000000  \n",
       "mean          1.421535        0.187461       3.459106  \n",
       "std           0.413326        0.150988       1.467646  \n",
       "min           0.187310        0.000200       0.702950  \n",
       "25%           1.195970        0.086720       2.484470  \n",
       "50%           1.383380        0.130000       3.017070  \n",
       "75%           1.591217        0.255190       3.854010  \n",
       "max           3.667170        0.731790      10.062280  "
      ]
     },
     "execution_count": 31,
     "metadata": {},
     "output_type": "execute_result"
    }
   ],
   "source": [
    "data_cleaned.describe(include='all')"
   ]
  },
  {
   "cell_type": "code",
   "execution_count": 32,
   "id": "8e2e13f0",
   "metadata": {},
   "outputs": [],
   "source": [
    "data_cleaned.to_csv(\"Data Cleaned No Index.csv\", index=False)"
   ]
  },
  {
   "cell_type": "code",
   "execution_count": 33,
   "id": "b0c4a910",
   "metadata": {},
   "outputs": [
    {
     "data": {
      "image/png": "[encoded data removed]",
      "text/plain": [
       "<Figure size 1080x360 with 5 Axes>"
      ]
     },
     "metadata": {},
     "output_type": "display_data"
    }
   ],
   "source": [
    "f, (ax1, ax2, ax3, ax4, ax5) = plt.subplots(1,5,sharey=True,figsize = (15,5))\n",
    "ax1.scatter(data_cleaned['chl [mg m-3]'], data_cleaned['phyc [mmol m-3]'])\n",
    "ax1.set_title('Fitoplankton dan Klorofil')\n",
    "ax2.scatter(data_cleaned['no3 [mmol m-3]'], data_cleaned['phyc [mmol m-3]'])\n",
    "ax2.set_title('Fitoplankton dan Nitrat')\n",
    "ax3.scatter(data_cleaned['o2 [mmol m-3]'], data_cleaned['phyc [mmol m-3]'])\n",
    "ax3.set_title('Fitoplankton dan Oksigen')\n",
    "ax4.scatter(data_cleaned['po4 [mmol m-3]'], data_cleaned['phyc [mmol m-3]'])\n",
    "ax4.set_title('Fitoplankton dan Pospat')\n",
    "ax5.scatter(data_cleaned['si [mmol m-3]'], data_cleaned['phyc [mmol m-3]'])\n",
    "ax5.set_title('Fitoplankton dan Silikat')\n",
    "\n",
    "plt.show()"
   ]
  },
  {
   "cell_type": "code",
   "execution_count": 34,
   "id": "c51131c7",
   "metadata": {},
   "outputs": [
    {
     "name": "stderr",
     "output_type": "stream",
     "text": [
      "C:\\Users\\ydhi\\anaconda3\\lib\\site-packages\\seaborn\\distributions.py:2619: FutureWarning: `distplot` is a deprecated function and will be removed in a future version. Please adapt your code to use either `displot` (a figure-level function with similar flexibility) or `histplot` (an axes-level function for histograms).\n",
      "  warnings.warn(msg, FutureWarning)\n"
     ]
    },
    {
     "data": {
      "text/plain": [
       "<AxesSubplot:xlabel='phyc [mmol m-3]', ylabel='Density'>"
      ]
     },
     "execution_count": 34,
     "metadata": {},
     "output_type": "execute_result"
    },
    {
     "data": {
      "image/png": "[encoded data removed]",
      "text/plain": [
       "<Figure size 432x288 with 1 Axes>"
      ]
     },
     "metadata": {},
     "output_type": "display_data"
    }
   ],
   "source": [
    "sns.distplot(data_cleaned['phyc [mmol m-3]'])"
   ]
  },
  {
   "cell_type": "code",
   "execution_count": 35,
   "id": "bff82432",
   "metadata": {},
   "outputs": [
    {
     "data": {
      "text/html": [
       "<div>\n",
       "<style scoped>\n",
       "    .dataframe tbody tr th:only-of-type {\n",
       "        vertical-align: middle;\n",
       "    }\n",
       "\n",
       "    .dataframe tbody tr th {\n",
       "        vertical-align: top;\n",
       "    }\n",
       "\n",
       "    .dataframe thead th {\n",
       "        text-align: right;\n",
       "    }\n",
       "</style>\n",
       "<table border=\"1\" class=\"dataframe\">\n",
       "  <thead>\n",
       "    <tr style=\"text-align: right;\">\n",
       "      <th></th>\n",
       "      <th>chl [mg m-3]</th>\n",
       "      <th>depth [m]</th>\n",
       "      <th>no3 [mmol m-3]</th>\n",
       "      <th>o2 [mmol m-3]</th>\n",
       "      <th>phyc [mmol m-3]</th>\n",
       "      <th>po4 [mmol m-3]</th>\n",
       "      <th>si [mmol m-3]</th>\n",
       "      <th>log_fito</th>\n",
       "    </tr>\n",
       "  </thead>\n",
       "  <tbody>\n",
       "    <tr>\n",
       "      <th>0</th>\n",
       "      <td>0.09910</td>\n",
       "      <td>0.49402</td>\n",
       "      <td>0.00280</td>\n",
       "      <td>201.93959</td>\n",
       "      <td>1.83672</td>\n",
       "      <td>0.06041</td>\n",
       "      <td>3.02433</td>\n",
       "      <td>0.607981</td>\n",
       "    </tr>\n",
       "    <tr>\n",
       "      <th>1</th>\n",
       "      <td>0.09933</td>\n",
       "      <td>0.49402</td>\n",
       "      <td>0.00295</td>\n",
       "      <td>201.82983</td>\n",
       "      <td>1.84343</td>\n",
       "      <td>0.06002</td>\n",
       "      <td>3.01754</td>\n",
       "      <td>0.611628</td>\n",
       "    </tr>\n",
       "    <tr>\n",
       "      <th>2</th>\n",
       "      <td>0.09967</td>\n",
       "      <td>0.49402</td>\n",
       "      <td>0.00306</td>\n",
       "      <td>201.77855</td>\n",
       "      <td>1.83328</td>\n",
       "      <td>0.06220</td>\n",
       "      <td>2.98639</td>\n",
       "      <td>0.606107</td>\n",
       "    </tr>\n",
       "    <tr>\n",
       "      <th>3</th>\n",
       "      <td>0.09939</td>\n",
       "      <td>0.49402</td>\n",
       "      <td>0.00333</td>\n",
       "      <td>201.45436</td>\n",
       "      <td>1.81943</td>\n",
       "      <td>0.06917</td>\n",
       "      <td>2.93559</td>\n",
       "      <td>0.598523</td>\n",
       "    </tr>\n",
       "    <tr>\n",
       "      <th>4</th>\n",
       "      <td>0.09993</td>\n",
       "      <td>0.49402</td>\n",
       "      <td>0.00394</td>\n",
       "      <td>201.26645</td>\n",
       "      <td>1.81756</td>\n",
       "      <td>0.07204</td>\n",
       "      <td>2.92603</td>\n",
       "      <td>0.597495</td>\n",
       "    </tr>\n",
       "    <tr>\n",
       "      <th>...</th>\n",
       "      <td>...</td>\n",
       "      <td>...</td>\n",
       "      <td>...</td>\n",
       "      <td>...</td>\n",
       "      <td>...</td>\n",
       "      <td>...</td>\n",
       "      <td>...</td>\n",
       "      <td>...</td>\n",
       "    </tr>\n",
       "    <tr>\n",
       "      <th>545309</th>\n",
       "      <td>0.12542</td>\n",
       "      <td>109.72930</td>\n",
       "      <td>1.86904</td>\n",
       "      <td>184.78323</td>\n",
       "      <td>0.32362</td>\n",
       "      <td>0.36703</td>\n",
       "      <td>2.47903</td>\n",
       "      <td>-1.128185</td>\n",
       "    </tr>\n",
       "    <tr>\n",
       "      <th>545310</th>\n",
       "      <td>0.15281</td>\n",
       "      <td>109.72930</td>\n",
       "      <td>1.85197</td>\n",
       "      <td>185.98671</td>\n",
       "      <td>0.39221</td>\n",
       "      <td>0.35775</td>\n",
       "      <td>2.45600</td>\n",
       "      <td>-0.935958</td>\n",
       "    </tr>\n",
       "    <tr>\n",
       "      <th>545311</th>\n",
       "      <td>0.15100</td>\n",
       "      <td>109.72930</td>\n",
       "      <td>1.75586</td>\n",
       "      <td>185.74280</td>\n",
       "      <td>0.41870</td>\n",
       "      <td>0.36494</td>\n",
       "      <td>2.42927</td>\n",
       "      <td>-0.870601</td>\n",
       "    </tr>\n",
       "    <tr>\n",
       "      <th>545312</th>\n",
       "      <td>0.16022</td>\n",
       "      <td>109.72930</td>\n",
       "      <td>1.96952</td>\n",
       "      <td>182.79945</td>\n",
       "      <td>0.43118</td>\n",
       "      <td>0.39833</td>\n",
       "      <td>2.48200</td>\n",
       "      <td>-0.841230</td>\n",
       "    </tr>\n",
       "    <tr>\n",
       "      <th>545313</th>\n",
       "      <td>0.17039</td>\n",
       "      <td>109.72930</td>\n",
       "      <td>2.30826</td>\n",
       "      <td>180.03502</td>\n",
       "      <td>0.43357</td>\n",
       "      <td>0.43026</td>\n",
       "      <td>2.56515</td>\n",
       "      <td>-0.835702</td>\n",
       "    </tr>\n",
       "  </tbody>\n",
       "</table>\n",
       "<p>545314 rows × 8 columns</p>\n",
       "</div>"
      ],
      "text/plain": [
       "        chl [mg m-3]  depth [m]  no3 [mmol m-3]  o2 [mmol m-3]  \\\n",
       "0            0.09910    0.49402         0.00280      201.93959   \n",
       "1            0.09933    0.49402         0.00295      201.82983   \n",
       "2            0.09967    0.49402         0.00306      201.77855   \n",
       "3            0.09939    0.49402         0.00333      201.45436   \n",
       "4            0.09993    0.49402         0.00394      201.26645   \n",
       "...              ...        ...             ...            ...   \n",
       "545309       0.12542  109.72930         1.86904      184.78323   \n",
       "545310       0.15281  109.72930         1.85197      185.98671   \n",
       "545311       0.15100  109.72930         1.75586      185.74280   \n",
       "545312       0.16022  109.72930         1.96952      182.79945   \n",
       "545313       0.17039  109.72930         2.30826      180.03502   \n",
       "\n",
       "        phyc [mmol m-3]  po4 [mmol m-3]  si [mmol m-3]  log_fito  \n",
       "0               1.83672         0.06041        3.02433  0.607981  \n",
       "1               1.84343         0.06002        3.01754  0.611628  \n",
       "2               1.83328         0.06220        2.98639  0.606107  \n",
       "3               1.81943         0.06917        2.93559  0.598523  \n",
       "4               1.81756         0.07204        2.92603  0.597495  \n",
       "...                 ...             ...            ...       ...  \n",
       "545309          0.32362         0.36703        2.47903 -1.128185  \n",
       "545310          0.39221         0.35775        2.45600 -0.935958  \n",
       "545311          0.41870         0.36494        2.42927 -0.870601  \n",
       "545312          0.43118         0.39833        2.48200 -0.841230  \n",
       "545313          0.43357         0.43026        2.56515 -0.835702  \n",
       "\n",
       "[545314 rows x 8 columns]"
      ]
     },
     "execution_count": 35,
     "metadata": {},
     "output_type": "execute_result"
    }
   ],
   "source": [
    "log_fito = np.log(data_cleaned['phyc [mmol m-3]'])\n",
    "data_cleaned['log_fito'] = log_fito\n",
    "data_cleaned"
   ]
  },
  {
   "cell_type": "code",
   "execution_count": 36,
   "id": "2f529bd6",
   "metadata": {},
   "outputs": [
    {
     "data": {
      "image/png": "[encoded data removed]",
      "text/plain": [
       "<Figure size 1080x360 with 5 Axes>"
      ]
     },
     "metadata": {},
     "output_type": "display_data"
    }
   ],
   "source": [
    "f, (ax1, ax2, ax3, ax4, ax5) = plt.subplots(1,5,sharey=True,figsize = (15,5))\n",
    "ax1.scatter(data_cleaned['chl [mg m-3]'], data_cleaned['log_fito'])\n",
    "ax1.set_title('Fitoplankton dan Klorofil')\n",
    "ax2.scatter(data_cleaned['no3 [mmol m-3]'], data_cleaned['log_fito'])\n",
    "ax2.set_title('Fitoplankton dan Nitrat')\n",
    "ax3.scatter(data_cleaned['o2 [mmol m-3]'], data_cleaned['log_fito'])\n",
    "ax3.set_title('Fitoplankton dan Oksigen')\n",
    "ax4.scatter(data_cleaned['po4 [mmol m-3]'], data_cleaned['log_fito'])\n",
    "ax4.set_title('Fitoplankton dan Pospat')\n",
    "ax5.scatter(data_cleaned['si [mmol m-3]'], data_cleaned['log_fito'])\n",
    "ax5.set_title('Fitoplankton dan Silikat')\n",
    "\n",
    "plt.show()"
   ]
  },
  {
   "cell_type": "code",
   "execution_count": 37,
   "id": "85cc5bd5",
   "metadata": {},
   "outputs": [],
   "source": [
    "data_cleaned = data_cleaned.drop(['log_fito'],axis=1)"
   ]
  },
  {
   "cell_type": "code",
   "execution_count": 38,
   "id": "abe00489",
   "metadata": {},
   "outputs": [
    {
     "data": {
      "text/plain": [
       "array(['chl [mg m-3]', 'depth [m]', 'no3 [mmol m-3]', 'o2 [mmol m-3]',\n",
       "       'phyc [mmol m-3]', 'po4 [mmol m-3]', 'si [mmol m-3]'], dtype=object)"
      ]
     },
     "execution_count": 38,
     "metadata": {},
     "output_type": "execute_result"
    }
   ],
   "source": [
    "data_cleaned.columns.values"
   ]
  },
  {
   "cell_type": "code",
   "execution_count": 39,
   "id": "e447cc24",
   "metadata": {},
   "outputs": [],
   "source": [
    "from statsmodels.stats.outliers_influence import variance_inflation_factor\n",
    "variables = data_cleaned[['chl [mg m-3]', 'no3 [mmol m-3]', 'o2 [mmol m-3]', 'po4 [mmol m-3]', 'si [mmol m-3]' ]]\n",
    "vif = pd.DataFrame()\n",
    "vif[\"VIF\"]= [variance_inflation_factor(variables.values, i)for i in range(variables.shape[1])]\n",
    "vif[\"features\"] = variables.columns\n"
   ]
  },
  {
   "cell_type": "code",
   "execution_count": 40,
   "id": "5e6fa8ad",
   "metadata": {},
   "outputs": [
    {
     "data": {
      "text/html": [
       "<div>\n",
       "<style scoped>\n",
       "    .dataframe tbody tr th:only-of-type {\n",
       "        vertical-align: middle;\n",
       "    }\n",
       "\n",
       "    .dataframe tbody tr th {\n",
       "        vertical-align: top;\n",
       "    }\n",
       "\n",
       "    .dataframe thead th {\n",
       "        text-align: right;\n",
       "    }\n",
       "</style>\n",
       "<table border=\"1\" class=\"dataframe\">\n",
       "  <thead>\n",
       "    <tr style=\"text-align: right;\">\n",
       "      <th></th>\n",
       "      <th>VIF</th>\n",
       "      <th>features</th>\n",
       "    </tr>\n",
       "  </thead>\n",
       "  <tbody>\n",
       "    <tr>\n",
       "      <th>0</th>\n",
       "      <td>4.955196</td>\n",
       "      <td>chl [mg m-3]</td>\n",
       "    </tr>\n",
       "    <tr>\n",
       "      <th>1</th>\n",
       "      <td>7.277282</td>\n",
       "      <td>no3 [mmol m-3]</td>\n",
       "    </tr>\n",
       "    <tr>\n",
       "      <th>2</th>\n",
       "      <td>15.502294</td>\n",
       "      <td>o2 [mmol m-3]</td>\n",
       "    </tr>\n",
       "    <tr>\n",
       "      <th>3</th>\n",
       "      <td>13.927583</td>\n",
       "      <td>po4 [mmol m-3]</td>\n",
       "    </tr>\n",
       "    <tr>\n",
       "      <th>4</th>\n",
       "      <td>10.636687</td>\n",
       "      <td>si [mmol m-3]</td>\n",
       "    </tr>\n",
       "  </tbody>\n",
       "</table>\n",
       "</div>"
      ],
      "text/plain": [
       "         VIF        features\n",
       "0   4.955196    chl [mg m-3]\n",
       "1   7.277282  no3 [mmol m-3]\n",
       "2  15.502294   o2 [mmol m-3]\n",
       "3  13.927583  po4 [mmol m-3]\n",
       "4  10.636687   si [mmol m-3]"
      ]
     },
     "execution_count": 40,
     "metadata": {},
     "output_type": "execute_result"
    }
   ],
   "source": [
    "vif"
   ]
  },
  {
   "cell_type": "code",
   "execution_count": 41,
   "id": "e3a5677c",
   "metadata": {},
   "outputs": [],
   "source": [
    "data_no_multicollinearity = data_cleaned.drop(['o2 [mmol m-3]','po4 [mmol m-3]','si [mmol m-3]', 'depth [m]'], axis=1)"
   ]
  },
  {
   "cell_type": "code",
   "execution_count": 42,
   "id": "e7e3add8",
   "metadata": {},
   "outputs": [
    {
     "data": {
      "text/html": [
       "<div>\n",
       "<style scoped>\n",
       "    .dataframe tbody tr th:only-of-type {\n",
       "        vertical-align: middle;\n",
       "    }\n",
       "\n",
       "    .dataframe tbody tr th {\n",
       "        vertical-align: top;\n",
       "    }\n",
       "\n",
       "    .dataframe thead th {\n",
       "        text-align: right;\n",
       "    }\n",
       "</style>\n",
       "<table border=\"1\" class=\"dataframe\">\n",
       "  <thead>\n",
       "    <tr style=\"text-align: right;\">\n",
       "      <th></th>\n",
       "      <th>chl [mg m-3]</th>\n",
       "      <th>no3 [mmol m-3]</th>\n",
       "      <th>phyc [mmol m-3]</th>\n",
       "    </tr>\n",
       "  </thead>\n",
       "  <tbody>\n",
       "    <tr>\n",
       "      <th>0</th>\n",
       "      <td>0.09910</td>\n",
       "      <td>0.00280</td>\n",
       "      <td>1.83672</td>\n",
       "    </tr>\n",
       "    <tr>\n",
       "      <th>1</th>\n",
       "      <td>0.09933</td>\n",
       "      <td>0.00295</td>\n",
       "      <td>1.84343</td>\n",
       "    </tr>\n",
       "    <tr>\n",
       "      <th>2</th>\n",
       "      <td>0.09967</td>\n",
       "      <td>0.00306</td>\n",
       "      <td>1.83328</td>\n",
       "    </tr>\n",
       "    <tr>\n",
       "      <th>3</th>\n",
       "      <td>0.09939</td>\n",
       "      <td>0.00333</td>\n",
       "      <td>1.81943</td>\n",
       "    </tr>\n",
       "    <tr>\n",
       "      <th>4</th>\n",
       "      <td>0.09993</td>\n",
       "      <td>0.00394</td>\n",
       "      <td>1.81756</td>\n",
       "    </tr>\n",
       "    <tr>\n",
       "      <th>...</th>\n",
       "      <td>...</td>\n",
       "      <td>...</td>\n",
       "      <td>...</td>\n",
       "    </tr>\n",
       "    <tr>\n",
       "      <th>545309</th>\n",
       "      <td>0.12542</td>\n",
       "      <td>1.86904</td>\n",
       "      <td>0.32362</td>\n",
       "    </tr>\n",
       "    <tr>\n",
       "      <th>545310</th>\n",
       "      <td>0.15281</td>\n",
       "      <td>1.85197</td>\n",
       "      <td>0.39221</td>\n",
       "    </tr>\n",
       "    <tr>\n",
       "      <th>545311</th>\n",
       "      <td>0.15100</td>\n",
       "      <td>1.75586</td>\n",
       "      <td>0.41870</td>\n",
       "    </tr>\n",
       "    <tr>\n",
       "      <th>545312</th>\n",
       "      <td>0.16022</td>\n",
       "      <td>1.96952</td>\n",
       "      <td>0.43118</td>\n",
       "    </tr>\n",
       "    <tr>\n",
       "      <th>545313</th>\n",
       "      <td>0.17039</td>\n",
       "      <td>2.30826</td>\n",
       "      <td>0.43357</td>\n",
       "    </tr>\n",
       "  </tbody>\n",
       "</table>\n",
       "<p>545314 rows × 3 columns</p>\n",
       "</div>"
      ],
      "text/plain": [
       "        chl [mg m-3]  no3 [mmol m-3]  phyc [mmol m-3]\n",
       "0            0.09910         0.00280          1.83672\n",
       "1            0.09933         0.00295          1.84343\n",
       "2            0.09967         0.00306          1.83328\n",
       "3            0.09939         0.00333          1.81943\n",
       "4            0.09993         0.00394          1.81756\n",
       "...              ...             ...              ...\n",
       "545309       0.12542         1.86904          0.32362\n",
       "545310       0.15281         1.85197          0.39221\n",
       "545311       0.15100         1.75586          0.41870\n",
       "545312       0.16022         1.96952          0.43118\n",
       "545313       0.17039         2.30826          0.43357\n",
       "\n",
       "[545314 rows x 3 columns]"
      ]
     },
     "execution_count": 42,
     "metadata": {},
     "output_type": "execute_result"
    }
   ],
   "source": [
    "data_no_multicollinearity"
   ]
  },
  {
   "cell_type": "code",
   "execution_count": 43,
   "id": "b0e53664",
   "metadata": {},
   "outputs": [],
   "source": [
    "data_with_dummies = pd.get_dummies(data_no_multicollinearity, drop_first=True)"
   ]
  },
  {
   "cell_type": "code",
   "execution_count": 44,
   "id": "a64b558d",
   "metadata": {},
   "outputs": [
    {
     "data": {
      "text/html": [
       "<div>\n",
       "<style scoped>\n",
       "    .dataframe tbody tr th:only-of-type {\n",
       "        vertical-align: middle;\n",
       "    }\n",
       "\n",
       "    .dataframe tbody tr th {\n",
       "        vertical-align: top;\n",
       "    }\n",
       "\n",
       "    .dataframe thead th {\n",
       "        text-align: right;\n",
       "    }\n",
       "</style>\n",
       "<table border=\"1\" class=\"dataframe\">\n",
       "  <thead>\n",
       "    <tr style=\"text-align: right;\">\n",
       "      <th></th>\n",
       "      <th>chl [mg m-3]</th>\n",
       "      <th>no3 [mmol m-3]</th>\n",
       "      <th>phyc [mmol m-3]</th>\n",
       "    </tr>\n",
       "  </thead>\n",
       "  <tbody>\n",
       "    <tr>\n",
       "      <th>0</th>\n",
       "      <td>0.09910</td>\n",
       "      <td>0.00280</td>\n",
       "      <td>1.83672</td>\n",
       "    </tr>\n",
       "    <tr>\n",
       "      <th>1</th>\n",
       "      <td>0.09933</td>\n",
       "      <td>0.00295</td>\n",
       "      <td>1.84343</td>\n",
       "    </tr>\n",
       "    <tr>\n",
       "      <th>2</th>\n",
       "      <td>0.09967</td>\n",
       "      <td>0.00306</td>\n",
       "      <td>1.83328</td>\n",
       "    </tr>\n",
       "    <tr>\n",
       "      <th>3</th>\n",
       "      <td>0.09939</td>\n",
       "      <td>0.00333</td>\n",
       "      <td>1.81943</td>\n",
       "    </tr>\n",
       "    <tr>\n",
       "      <th>4</th>\n",
       "      <td>0.09993</td>\n",
       "      <td>0.00394</td>\n",
       "      <td>1.81756</td>\n",
       "    </tr>\n",
       "  </tbody>\n",
       "</table>\n",
       "</div>"
      ],
      "text/plain": [
       "   chl [mg m-3]  no3 [mmol m-3]  phyc [mmol m-3]\n",
       "0       0.09910         0.00280          1.83672\n",
       "1       0.09933         0.00295          1.84343\n",
       "2       0.09967         0.00306          1.83328\n",
       "3       0.09939         0.00333          1.81943\n",
       "4       0.09993         0.00394          1.81756"
      ]
     },
     "execution_count": 44,
     "metadata": {},
     "output_type": "execute_result"
    }
   ],
   "source": [
    "data_with_dummies.head()"
   ]
  },
  {
   "cell_type": "code",
   "execution_count": 45,
   "id": "b0dcfbb9",
   "metadata": {},
   "outputs": [
    {
     "data": {
      "text/plain": [
       "array(['chl [mg m-3]', 'no3 [mmol m-3]', 'phyc [mmol m-3]'], dtype=object)"
      ]
     },
     "execution_count": 45,
     "metadata": {},
     "output_type": "execute_result"
    }
   ],
   "source": [
    "data_with_dummies.columns.values"
   ]
  },
  {
   "cell_type": "code",
   "execution_count": 46,
   "id": "f8fc064e",
   "metadata": {},
   "outputs": [],
   "source": [
    "cols = ['chl [mg m-3]', 'no3 [mmol m-3]', 'phyc [mmol m-3]']\n"
   ]
  },
  {
   "cell_type": "code",
   "execution_count": 47,
   "id": "01247ebf",
   "metadata": {},
   "outputs": [
    {
     "data": {
      "text/html": [
       "<div>\n",
       "<style scoped>\n",
       "    .dataframe tbody tr th:only-of-type {\n",
       "        vertical-align: middle;\n",
       "    }\n",
       "\n",
       "    .dataframe tbody tr th {\n",
       "        vertical-align: top;\n",
       "    }\n",
       "\n",
       "    .dataframe thead th {\n",
       "        text-align: right;\n",
       "    }\n",
       "</style>\n",
       "<table border=\"1\" class=\"dataframe\">\n",
       "  <thead>\n",
       "    <tr style=\"text-align: right;\">\n",
       "      <th></th>\n",
       "      <th>chl [mg m-3]</th>\n",
       "      <th>no3 [mmol m-3]</th>\n",
       "      <th>phyc [mmol m-3]</th>\n",
       "    </tr>\n",
       "  </thead>\n",
       "  <tbody>\n",
       "    <tr>\n",
       "      <th>0</th>\n",
       "      <td>0.09910</td>\n",
       "      <td>0.00280</td>\n",
       "      <td>1.83672</td>\n",
       "    </tr>\n",
       "    <tr>\n",
       "      <th>1</th>\n",
       "      <td>0.09933</td>\n",
       "      <td>0.00295</td>\n",
       "      <td>1.84343</td>\n",
       "    </tr>\n",
       "    <tr>\n",
       "      <th>2</th>\n",
       "      <td>0.09967</td>\n",
       "      <td>0.00306</td>\n",
       "      <td>1.83328</td>\n",
       "    </tr>\n",
       "    <tr>\n",
       "      <th>3</th>\n",
       "      <td>0.09939</td>\n",
       "      <td>0.00333</td>\n",
       "      <td>1.81943</td>\n",
       "    </tr>\n",
       "    <tr>\n",
       "      <th>4</th>\n",
       "      <td>0.09993</td>\n",
       "      <td>0.00394</td>\n",
       "      <td>1.81756</td>\n",
       "    </tr>\n",
       "  </tbody>\n",
       "</table>\n",
       "</div>"
      ],
      "text/plain": [
       "   chl [mg m-3]  no3 [mmol m-3]  phyc [mmol m-3]\n",
       "0       0.09910         0.00280          1.83672\n",
       "1       0.09933         0.00295          1.84343\n",
       "2       0.09967         0.00306          1.83328\n",
       "3       0.09939         0.00333          1.81943\n",
       "4       0.09993         0.00394          1.81756"
      ]
     },
     "execution_count": 47,
     "metadata": {},
     "output_type": "execute_result"
    }
   ],
   "source": [
    "#data_preprocessed = data_with_dummies[cols]\n",
    "#data_preprocessed.head()\n",
    "\n",
    "data_preprocessed = data_no_multicollinearity\n",
    "data_preprocessed.head()"
   ]
  },
  {
   "cell_type": "code",
   "execution_count": 48,
   "id": "8308a330",
   "metadata": {},
   "outputs": [],
   "source": [
    "targets = data_preprocessed['chl [mg m-3]']\n",
    "inputs = data_preprocessed.drop(['chl [mg m-3]'], axis=1)"
   ]
  },
  {
   "cell_type": "code",
   "execution_count": 49,
   "id": "64e840c5",
   "metadata": {},
   "outputs": [
    {
     "data": {
      "text/plain": [
       "StandardScaler()"
      ]
     },
     "execution_count": 49,
     "metadata": {},
     "output_type": "execute_result"
    }
   ],
   "source": [
    "from sklearn.preprocessing import StandardScaler\n",
    "\n",
    "scaler = StandardScaler()\n",
    "scaler.fit(inputs)"
   ]
  },
  {
   "cell_type": "code",
   "execution_count": 50,
   "id": "1ecc25f1",
   "metadata": {},
   "outputs": [],
   "source": [
    "inputs_scaled = scaler.transform(inputs)"
   ]
  },
  {
   "cell_type": "code",
   "execution_count": null,
   "id": "f79eafdc",
   "metadata": {},
   "outputs": [],
   "source": []
  },
  {
   "cell_type": "code",
   "execution_count": 51,
   "id": "489f80ca",
   "metadata": {},
   "outputs": [],
   "source": [
    "from sklearn.model_selection import train_test_split"
   ]
  },
  {
   "cell_type": "code",
   "execution_count": 52,
   "id": "69dbf046",
   "metadata": {},
   "outputs": [],
   "source": [
    "x_train, x_test, y_train, y_test = train_test_split(inputs_scaled, targets, test_size=0.2, random_state=365)"
   ]
  },
  {
   "cell_type": "code",
   "execution_count": null,
   "id": "d74750ae",
   "metadata": {},
   "outputs": [],
   "source": []
  },
  {
   "cell_type": "raw",
   "id": "650fe158",
   "metadata": {},
   "source": []
  },
  {
   "cell_type": "code",
   "execution_count": 53,
   "id": "b5e0793a",
   "metadata": {},
   "outputs": [
    {
     "data": {
      "text/plain": [
       "LinearRegression()"
      ]
     },
     "execution_count": 53,
     "metadata": {},
     "output_type": "execute_result"
    }
   ],
   "source": [
    "reg = LinearRegression()\n",
    "reg.fit(x_train, y_train)"
   ]
  },
  {
   "cell_type": "code",
   "execution_count": 54,
   "id": "a39a7024",
   "metadata": {},
   "outputs": [],
   "source": [
    "y_hat = reg.predict(x_train)"
   ]
  },
  {
   "cell_type": "code",
   "execution_count": 55,
   "id": "a5789614",
   "metadata": {},
   "outputs": [
    {
     "data": {
      "image/png": "[encoded data removed]",
      "text/plain": [
       "<Figure size 432x288 with 1 Axes>"
      ]
     },
     "metadata": {},
     "output_type": "display_data"
    }
   ],
   "source": [
    "plt.scatter(y_train, y_hat)\n",
    "plt.xlabel('Targets (y_train)', size=18)\n",
    "plt.ylabel('Predictions (y_hat)', size=18)\n",
    "plt.xlim(-0.25,1.5)\n",
    "plt.ylim(-0.25,1.5)\n",
    "plt.show()"
   ]
  },
  {
   "cell_type": "code",
   "execution_count": 56,
   "id": "7d31a1a2",
   "metadata": {},
   "outputs": [
    {
     "name": "stderr",
     "output_type": "stream",
     "text": [
      "C:\\Users\\ydhi\\anaconda3\\lib\\site-packages\\seaborn\\distributions.py:2619: FutureWarning: `distplot` is a deprecated function and will be removed in a future version. Please adapt your code to use either `displot` (a figure-level function with similar flexibility) or `histplot` (an axes-level function for histograms).\n",
      "  warnings.warn(msg, FutureWarning)\n"
     ]
    },
    {
     "data": {
      "text/plain": [
       "Text(0.5, 1.0, 'Residual PDF')"
      ]
     },
     "execution_count": 56,
     "metadata": {},
     "output_type": "execute_result"
    },
    {
     "data": {
      "image/png": "[encoded data removed]",
      "text/plain": [
       "<Figure size 432x288 with 1 Axes>"
      ]
     },
     "metadata": {},
     "output_type": "display_data"
    }
   ],
   "source": [
    "sns.distplot(y_train - y_hat)\n",
    "plt.title(\"Residual PDF\", size= 18)"
   ]
  },
  {
   "cell_type": "code",
   "execution_count": 57,
   "id": "0de7874d",
   "metadata": {},
   "outputs": [
    {
     "data": {
      "text/plain": [
       "0.4799050778880237"
      ]
     },
     "execution_count": 57,
     "metadata": {},
     "output_type": "execute_result"
    }
   ],
   "source": [
    "reg.score(x_train, y_train)"
   ]
  },
  {
   "cell_type": "code",
   "execution_count": 58,
   "id": "cb25b62d",
   "metadata": {},
   "outputs": [
    {
     "data": {
      "text/plain": [
       "0.2278554609121268"
      ]
     },
     "execution_count": 58,
     "metadata": {},
     "output_type": "execute_result"
    }
   ],
   "source": [
    "reg.intercept_"
   ]
  },
  {
   "cell_type": "code",
   "execution_count": 59,
   "id": "af55d49c",
   "metadata": {},
   "outputs": [
    {
     "data": {
      "text/plain": [
       "array([0.08308784, 0.09783743])"
      ]
     },
     "execution_count": 59,
     "metadata": {},
     "output_type": "execute_result"
    }
   ],
   "source": [
    "reg.coef_"
   ]
  },
  {
   "cell_type": "code",
   "execution_count": 60,
   "id": "a458ff85",
   "metadata": {},
   "outputs": [
    {
     "data": {
      "text/html": [
       "<div>\n",
       "<style scoped>\n",
       "    .dataframe tbody tr th:only-of-type {\n",
       "        vertical-align: middle;\n",
       "    }\n",
       "\n",
       "    .dataframe tbody tr th {\n",
       "        vertical-align: top;\n",
       "    }\n",
       "\n",
       "    .dataframe thead th {\n",
       "        text-align: right;\n",
       "    }\n",
       "</style>\n",
       "<table border=\"1\" class=\"dataframe\">\n",
       "  <thead>\n",
       "    <tr style=\"text-align: right;\">\n",
       "      <th></th>\n",
       "      <th>Feature</th>\n",
       "      <th>Weights</th>\n",
       "    </tr>\n",
       "  </thead>\n",
       "  <tbody>\n",
       "    <tr>\n",
       "      <th>0</th>\n",
       "      <td>no3 [mmol m-3]</td>\n",
       "      <td>0.083088</td>\n",
       "    </tr>\n",
       "    <tr>\n",
       "      <th>1</th>\n",
       "      <td>phyc [mmol m-3]</td>\n",
       "      <td>0.097837</td>\n",
       "    </tr>\n",
       "  </tbody>\n",
       "</table>\n",
       "</div>"
      ],
      "text/plain": [
       "           Feature   Weights\n",
       "0   no3 [mmol m-3]  0.083088\n",
       "1  phyc [mmol m-3]  0.097837"
      ]
     },
     "execution_count": 60,
     "metadata": {},
     "output_type": "execute_result"
    }
   ],
   "source": [
    "reg.summary = pd.DataFrame(inputs.columns.values, columns=['Feature'])\n",
    "reg.summary['Weights'] = reg.coef_\n",
    "reg.summary"
   ]
  },
  {
   "cell_type": "code",
   "execution_count": null,
   "id": "6bf5f087",
   "metadata": {},
   "outputs": [],
   "source": []
  },
  {
   "cell_type": "code",
   "execution_count": 61,
   "id": "eb4bc4c6",
   "metadata": {},
   "outputs": [],
   "source": [
    "y_hat_test = reg.predict(x_test)"
   ]
  },
  {
   "cell_type": "code",
   "execution_count": 62,
   "id": "1297358a",
   "metadata": {},
   "outputs": [
    {
     "data": {
      "image/png": "[encoded data removed]",
      "text/plain": [
       "<Figure size 432x288 with 1 Axes>"
      ]
     },
     "metadata": {},
     "output_type": "display_data"
    }
   ],
   "source": [
    "plt.scatter(y_test, y_hat_test, alpha = 0.2)\n",
    "plt.xlabel('Targets (y_test)', size=18)\n",
    "plt.ylabel('Predictions (y_hat_test)', size=18)\n",
    "plt.xlim(-0.25,1.5)\n",
    "plt.ylim(-0.25,1.5)\n",
    "plt.show()"
   ]
  },
  {
   "cell_type": "code",
   "execution_count": 63,
   "id": "72c04066",
   "metadata": {},
   "outputs": [
    {
     "data": {
      "text/html": [
       "<div>\n",
       "<style scoped>\n",
       "    .dataframe tbody tr th:only-of-type {\n",
       "        vertical-align: middle;\n",
       "    }\n",
       "\n",
       "    .dataframe tbody tr th {\n",
       "        vertical-align: top;\n",
       "    }\n",
       "\n",
       "    .dataframe thead th {\n",
       "        text-align: right;\n",
       "    }\n",
       "</style>\n",
       "<table border=\"1\" class=\"dataframe\">\n",
       "  <thead>\n",
       "    <tr style=\"text-align: right;\">\n",
       "      <th></th>\n",
       "      <th>Prediction</th>\n",
       "    </tr>\n",
       "  </thead>\n",
       "  <tbody>\n",
       "    <tr>\n",
       "      <th>0</th>\n",
       "      <td>0.227679</td>\n",
       "    </tr>\n",
       "    <tr>\n",
       "      <th>1</th>\n",
       "      <td>0.168535</td>\n",
       "    </tr>\n",
       "    <tr>\n",
       "      <th>2</th>\n",
       "      <td>0.125635</td>\n",
       "    </tr>\n",
       "    <tr>\n",
       "      <th>3</th>\n",
       "      <td>0.252241</td>\n",
       "    </tr>\n",
       "    <tr>\n",
       "      <th>4</th>\n",
       "      <td>0.226827</td>\n",
       "    </tr>\n",
       "  </tbody>\n",
       "</table>\n",
       "</div>"
      ],
      "text/plain": [
       "   Prediction\n",
       "0    0.227679\n",
       "1    0.168535\n",
       "2    0.125635\n",
       "3    0.252241\n",
       "4    0.226827"
      ]
     },
     "execution_count": 63,
     "metadata": {},
     "output_type": "execute_result"
    }
   ],
   "source": [
    "df_pf = pd.DataFrame(y_hat_test,columns=['Prediction'])\n",
    "df_pf.head()\n",
    "\n",
    "# Jika Menggunakan log di awal maka\n",
    "# df_pf = pd.DataFrame(np.exp(y_hat_test),columns=['Prediction'])\n",
    "# df_pf.head()\n"
   ]
  },
  {
   "cell_type": "code",
   "execution_count": 64,
   "id": "4312c329",
   "metadata": {},
   "outputs": [
    {
     "data": {
      "text/html": [
       "<div>\n",
       "<style scoped>\n",
       "    .dataframe tbody tr th:only-of-type {\n",
       "        vertical-align: middle;\n",
       "    }\n",
       "\n",
       "    .dataframe tbody tr th {\n",
       "        vertical-align: top;\n",
       "    }\n",
       "\n",
       "    .dataframe thead th {\n",
       "        text-align: right;\n",
       "    }\n",
       "</style>\n",
       "<table border=\"1\" class=\"dataframe\">\n",
       "  <thead>\n",
       "    <tr style=\"text-align: right;\">\n",
       "      <th></th>\n",
       "      <th>Prediction</th>\n",
       "      <th>Target</th>\n",
       "    </tr>\n",
       "  </thead>\n",
       "  <tbody>\n",
       "    <tr>\n",
       "      <th>0</th>\n",
       "      <td>0.227679</td>\n",
       "      <td>NaN</td>\n",
       "    </tr>\n",
       "    <tr>\n",
       "      <th>1</th>\n",
       "      <td>0.168535</td>\n",
       "      <td>NaN</td>\n",
       "    </tr>\n",
       "    <tr>\n",
       "      <th>2</th>\n",
       "      <td>0.125635</td>\n",
       "      <td>1.104806</td>\n",
       "    </tr>\n",
       "    <tr>\n",
       "      <th>3</th>\n",
       "      <td>0.252241</td>\n",
       "      <td>NaN</td>\n",
       "    </tr>\n",
       "    <tr>\n",
       "      <th>4</th>\n",
       "      <td>0.226827</td>\n",
       "      <td>NaN</td>\n",
       "    </tr>\n",
       "    <tr>\n",
       "      <th>...</th>\n",
       "      <td>...</td>\n",
       "      <td>...</td>\n",
       "    </tr>\n",
       "    <tr>\n",
       "      <th>109058</th>\n",
       "      <td>0.138917</td>\n",
       "      <td>NaN</td>\n",
       "    </tr>\n",
       "    <tr>\n",
       "      <th>109059</th>\n",
       "      <td>0.175760</td>\n",
       "      <td>NaN</td>\n",
       "    </tr>\n",
       "    <tr>\n",
       "      <th>109060</th>\n",
       "      <td>0.513400</td>\n",
       "      <td>NaN</td>\n",
       "    </tr>\n",
       "    <tr>\n",
       "      <th>109061</th>\n",
       "      <td>0.436010</td>\n",
       "      <td>NaN</td>\n",
       "    </tr>\n",
       "    <tr>\n",
       "      <th>109062</th>\n",
       "      <td>0.288646</td>\n",
       "      <td>NaN</td>\n",
       "    </tr>\n",
       "  </tbody>\n",
       "</table>\n",
       "<p>109063 rows × 2 columns</p>\n",
       "</div>"
      ],
      "text/plain": [
       "        Prediction    Target\n",
       "0         0.227679       NaN\n",
       "1         0.168535       NaN\n",
       "2         0.125635  1.104806\n",
       "3         0.252241       NaN\n",
       "4         0.226827       NaN\n",
       "...            ...       ...\n",
       "109058    0.138917       NaN\n",
       "109059    0.175760       NaN\n",
       "109060    0.513400       NaN\n",
       "109061    0.436010       NaN\n",
       "109062    0.288646       NaN\n",
       "\n",
       "[109063 rows x 2 columns]"
      ]
     },
     "execution_count": 64,
     "metadata": {},
     "output_type": "execute_result"
    }
   ],
   "source": [
    "df_pf['Target'] = np.exp(y_test)\n",
    "df_pf"
   ]
  },
  {
   "cell_type": "code",
   "execution_count": 65,
   "id": "d8790163",
   "metadata": {},
   "outputs": [
    {
     "data": {
      "text/plain": [
       "6353      0.12611\n",
       "271860    0.12429\n",
       "498360    0.15092\n",
       "47130     0.35445\n",
       "465968    0.17288\n",
       "           ...   \n",
       "411901    0.11065\n",
       "229088    0.09751\n",
       "269412    0.49594\n",
       "148176    0.32688\n",
       "472763    0.20728\n",
       "Name: chl [mg m-3], Length: 109063, dtype: float64"
      ]
     },
     "execution_count": 65,
     "metadata": {},
     "output_type": "execute_result"
    }
   ],
   "source": [
    "y_test"
   ]
  },
  {
   "cell_type": "code",
   "execution_count": 66,
   "id": "8c50c109",
   "metadata": {},
   "outputs": [
    {
     "data": {
      "text/plain": [
       "0         0.12611\n",
       "1         0.12429\n",
       "2         0.15092\n",
       "3         0.35445\n",
       "4         0.17288\n",
       "           ...   \n",
       "109058    0.11065\n",
       "109059    0.09751\n",
       "109060    0.49594\n",
       "109061    0.32688\n",
       "109062    0.20728\n",
       "Name: chl [mg m-3], Length: 109063, dtype: float64"
      ]
     },
     "execution_count": 66,
     "metadata": {},
     "output_type": "execute_result"
    }
   ],
   "source": [
    "y_test = y_test.reset_index(drop=True)\n",
    "y_test"
   ]
  },
  {
   "cell_type": "code",
   "execution_count": 67,
   "id": "a4cc67ab",
   "metadata": {},
   "outputs": [
    {
     "data": {
      "text/html": [
       "<div>\n",
       "<style scoped>\n",
       "    .dataframe tbody tr th:only-of-type {\n",
       "        vertical-align: middle;\n",
       "    }\n",
       "\n",
       "    .dataframe tbody tr th {\n",
       "        vertical-align: top;\n",
       "    }\n",
       "\n",
       "    .dataframe thead th {\n",
       "        text-align: right;\n",
       "    }\n",
       "</style>\n",
       "<table border=\"1\" class=\"dataframe\">\n",
       "  <thead>\n",
       "    <tr style=\"text-align: right;\">\n",
       "      <th></th>\n",
       "      <th>Prediction</th>\n",
       "      <th>Target</th>\n",
       "    </tr>\n",
       "  </thead>\n",
       "  <tbody>\n",
       "    <tr>\n",
       "      <th>0</th>\n",
       "      <td>0.227679</td>\n",
       "      <td>1.134407</td>\n",
       "    </tr>\n",
       "    <tr>\n",
       "      <th>1</th>\n",
       "      <td>0.168535</td>\n",
       "      <td>1.132344</td>\n",
       "    </tr>\n",
       "    <tr>\n",
       "      <th>2</th>\n",
       "      <td>0.125635</td>\n",
       "      <td>1.162904</td>\n",
       "    </tr>\n",
       "    <tr>\n",
       "      <th>3</th>\n",
       "      <td>0.252241</td>\n",
       "      <td>1.425396</td>\n",
       "    </tr>\n",
       "    <tr>\n",
       "      <th>4</th>\n",
       "      <td>0.226827</td>\n",
       "      <td>1.188723</td>\n",
       "    </tr>\n",
       "    <tr>\n",
       "      <th>...</th>\n",
       "      <td>...</td>\n",
       "      <td>...</td>\n",
       "    </tr>\n",
       "    <tr>\n",
       "      <th>109058</th>\n",
       "      <td>0.138917</td>\n",
       "      <td>1.117004</td>\n",
       "    </tr>\n",
       "    <tr>\n",
       "      <th>109059</th>\n",
       "      <td>0.175760</td>\n",
       "      <td>1.102422</td>\n",
       "    </tr>\n",
       "    <tr>\n",
       "      <th>109060</th>\n",
       "      <td>0.513400</td>\n",
       "      <td>1.642041</td>\n",
       "    </tr>\n",
       "    <tr>\n",
       "      <th>109061</th>\n",
       "      <td>0.436010</td>\n",
       "      <td>1.386635</td>\n",
       "    </tr>\n",
       "    <tr>\n",
       "      <th>109062</th>\n",
       "      <td>0.288646</td>\n",
       "      <td>1.230327</td>\n",
       "    </tr>\n",
       "  </tbody>\n",
       "</table>\n",
       "<p>109063 rows × 2 columns</p>\n",
       "</div>"
      ],
      "text/plain": [
       "        Prediction    Target\n",
       "0         0.227679  1.134407\n",
       "1         0.168535  1.132344\n",
       "2         0.125635  1.162904\n",
       "3         0.252241  1.425396\n",
       "4         0.226827  1.188723\n",
       "...            ...       ...\n",
       "109058    0.138917  1.117004\n",
       "109059    0.175760  1.102422\n",
       "109060    0.513400  1.642041\n",
       "109061    0.436010  1.386635\n",
       "109062    0.288646  1.230327\n",
       "\n",
       "[109063 rows x 2 columns]"
      ]
     },
     "execution_count": 67,
     "metadata": {},
     "output_type": "execute_result"
    }
   ],
   "source": [
    "df_pf['Target'] = np.exp(y_test)\n",
    "df_pf"
   ]
  },
  {
   "cell_type": "code",
   "execution_count": 68,
   "id": "166f0e73",
   "metadata": {},
   "outputs": [],
   "source": [
    "df_pf['Residual'] = df_pf['Target'] - df_pf['Prediction']\n",
    "df_pf['Differences%'] = np.absolute(df_pf['Residual']/df_pf['Target']*100)"
   ]
  },
  {
   "cell_type": "code",
   "execution_count": 69,
   "id": "e0180b57",
   "metadata": {},
   "outputs": [
    {
     "data": {
      "text/html": [
       "<div>\n",
       "<style scoped>\n",
       "    .dataframe tbody tr th:only-of-type {\n",
       "        vertical-align: middle;\n",
       "    }\n",
       "\n",
       "    .dataframe tbody tr th {\n",
       "        vertical-align: top;\n",
       "    }\n",
       "\n",
       "    .dataframe thead th {\n",
       "        text-align: right;\n",
       "    }\n",
       "</style>\n",
       "<table border=\"1\" class=\"dataframe\">\n",
       "  <thead>\n",
       "    <tr style=\"text-align: right;\">\n",
       "      <th></th>\n",
       "      <th>Prediction</th>\n",
       "      <th>Target</th>\n",
       "      <th>Residual</th>\n",
       "      <th>Differences%</th>\n",
       "    </tr>\n",
       "  </thead>\n",
       "  <tbody>\n",
       "    <tr>\n",
       "      <th>0</th>\n",
       "      <td>0.227679</td>\n",
       "      <td>1.134407</td>\n",
       "      <td>0.906728</td>\n",
       "      <td>79.929684</td>\n",
       "    </tr>\n",
       "    <tr>\n",
       "      <th>1</th>\n",
       "      <td>0.168535</td>\n",
       "      <td>1.132344</td>\n",
       "      <td>0.963809</td>\n",
       "      <td>85.116288</td>\n",
       "    </tr>\n",
       "    <tr>\n",
       "      <th>2</th>\n",
       "      <td>0.125635</td>\n",
       "      <td>1.162904</td>\n",
       "      <td>1.037269</td>\n",
       "      <td>89.196441</td>\n",
       "    </tr>\n",
       "    <tr>\n",
       "      <th>3</th>\n",
       "      <td>0.252241</td>\n",
       "      <td>1.425396</td>\n",
       "      <td>1.173155</td>\n",
       "      <td>82.303795</td>\n",
       "    </tr>\n",
       "    <tr>\n",
       "      <th>4</th>\n",
       "      <td>0.226827</td>\n",
       "      <td>1.188723</td>\n",
       "      <td>0.961897</td>\n",
       "      <td>80.918465</td>\n",
       "    </tr>\n",
       "    <tr>\n",
       "      <th>...</th>\n",
       "      <td>...</td>\n",
       "      <td>...</td>\n",
       "      <td>...</td>\n",
       "      <td>...</td>\n",
       "    </tr>\n",
       "    <tr>\n",
       "      <th>109058</th>\n",
       "      <td>0.138917</td>\n",
       "      <td>1.117004</td>\n",
       "      <td>0.978087</td>\n",
       "      <td>87.563402</td>\n",
       "    </tr>\n",
       "    <tr>\n",
       "      <th>109059</th>\n",
       "      <td>0.175760</td>\n",
       "      <td>1.102422</td>\n",
       "      <td>0.926663</td>\n",
       "      <td>84.056973</td>\n",
       "    </tr>\n",
       "    <tr>\n",
       "      <th>109060</th>\n",
       "      <td>0.513400</td>\n",
       "      <td>1.642041</td>\n",
       "      <td>1.128642</td>\n",
       "      <td>68.734062</td>\n",
       "    </tr>\n",
       "    <tr>\n",
       "      <th>109061</th>\n",
       "      <td>0.436010</td>\n",
       "      <td>1.386635</td>\n",
       "      <td>0.950625</td>\n",
       "      <td>68.556248</td>\n",
       "    </tr>\n",
       "    <tr>\n",
       "      <th>109062</th>\n",
       "      <td>0.288646</td>\n",
       "      <td>1.230327</td>\n",
       "      <td>0.941681</td>\n",
       "      <td>76.539064</td>\n",
       "    </tr>\n",
       "  </tbody>\n",
       "</table>\n",
       "<p>109063 rows × 4 columns</p>\n",
       "</div>"
      ],
      "text/plain": [
       "        Prediction    Target  Residual  Differences%\n",
       "0         0.227679  1.134407  0.906728     79.929684\n",
       "1         0.168535  1.132344  0.963809     85.116288\n",
       "2         0.125635  1.162904  1.037269     89.196441\n",
       "3         0.252241  1.425396  1.173155     82.303795\n",
       "4         0.226827  1.188723  0.961897     80.918465\n",
       "...            ...       ...       ...           ...\n",
       "109058    0.138917  1.117004  0.978087     87.563402\n",
       "109059    0.175760  1.102422  0.926663     84.056973\n",
       "109060    0.513400  1.642041  1.128642     68.734062\n",
       "109061    0.436010  1.386635  0.950625     68.556248\n",
       "109062    0.288646  1.230327  0.941681     76.539064\n",
       "\n",
       "[109063 rows x 4 columns]"
      ]
     },
     "execution_count": 69,
     "metadata": {},
     "output_type": "execute_result"
    }
   ],
   "source": [
    "df_pf"
   ]
  },
  {
   "cell_type": "code",
   "execution_count": 70,
   "id": "762ee71a",
   "metadata": {
    "scrolled": true
   },
   "outputs": [
    {
     "data": {
      "text/html": [
       "<div>\n",
       "<style scoped>\n",
       "    .dataframe tbody tr th:only-of-type {\n",
       "        vertical-align: middle;\n",
       "    }\n",
       "\n",
       "    .dataframe tbody tr th {\n",
       "        vertical-align: top;\n",
       "    }\n",
       "\n",
       "    .dataframe thead th {\n",
       "        text-align: right;\n",
       "    }\n",
       "</style>\n",
       "<table border=\"1\" class=\"dataframe\">\n",
       "  <thead>\n",
       "    <tr style=\"text-align: right;\">\n",
       "      <th></th>\n",
       "      <th>Prediction</th>\n",
       "      <th>Target</th>\n",
       "      <th>Residual</th>\n",
       "      <th>Differences%</th>\n",
       "    </tr>\n",
       "  </thead>\n",
       "  <tbody>\n",
       "    <tr>\n",
       "      <th>count</th>\n",
       "      <td>109063.000000</td>\n",
       "      <td>109063.000000</td>\n",
       "      <td>109063.000000</td>\n",
       "      <td>109063.000000</td>\n",
       "    </tr>\n",
       "    <tr>\n",
       "      <th>mean</th>\n",
       "      <td>0.227686</td>\n",
       "      <td>1.271030</td>\n",
       "      <td>1.043344</td>\n",
       "      <td>82.401195</td>\n",
       "    </tr>\n",
       "    <tr>\n",
       "      <th>std</th>\n",
       "      <td>0.097514</td>\n",
       "      <td>0.208559</td>\n",
       "      <td>0.158661</td>\n",
       "      <td>5.669594</td>\n",
       "    </tr>\n",
       "    <tr>\n",
       "      <th>min</th>\n",
       "      <td>-0.040710</td>\n",
       "      <td>1.073667</td>\n",
       "      <td>0.458281</td>\n",
       "      <td>41.247758</td>\n",
       "    </tr>\n",
       "    <tr>\n",
       "      <th>25%</th>\n",
       "      <td>0.159904</td>\n",
       "      <td>1.127700</td>\n",
       "      <td>0.946841</td>\n",
       "      <td>79.080230</td>\n",
       "    </tr>\n",
       "    <tr>\n",
       "      <th>50%</th>\n",
       "      <td>0.205896</td>\n",
       "      <td>1.198955</td>\n",
       "      <td>1.000887</td>\n",
       "      <td>82.913749</td>\n",
       "    </tr>\n",
       "    <tr>\n",
       "      <th>75%</th>\n",
       "      <td>0.274929</td>\n",
       "      <td>1.348577</td>\n",
       "      <td>1.090166</td>\n",
       "      <td>86.461402</td>\n",
       "    </tr>\n",
       "    <tr>\n",
       "      <th>max</th>\n",
       "      <td>1.014113</td>\n",
       "      <td>3.444918</td>\n",
       "      <td>2.821899</td>\n",
       "      <td>103.664028</td>\n",
       "    </tr>\n",
       "  </tbody>\n",
       "</table>\n",
       "</div>"
      ],
      "text/plain": [
       "          Prediction         Target       Residual   Differences%\n",
       "count  109063.000000  109063.000000  109063.000000  109063.000000\n",
       "mean        0.227686       1.271030       1.043344      82.401195\n",
       "std         0.097514       0.208559       0.158661       5.669594\n",
       "min        -0.040710       1.073667       0.458281      41.247758\n",
       "25%         0.159904       1.127700       0.946841      79.080230\n",
       "50%         0.205896       1.198955       1.000887      82.913749\n",
       "75%         0.274929       1.348577       1.090166      86.461402\n",
       "max         1.014113       3.444918       2.821899     103.664028"
      ]
     },
     "execution_count": 70,
     "metadata": {},
     "output_type": "execute_result"
    }
   ],
   "source": [
    "df_pf.describe()"
   ]
  },
  {
   "cell_type": "code",
   "execution_count": 71,
   "id": "66dc3c94",
   "metadata": {},
   "outputs": [
    {
     "data": {
      "text/html": [
       "<div>\n",
       "<style scoped>\n",
       "    .dataframe tbody tr th:only-of-type {\n",
       "        vertical-align: middle;\n",
       "    }\n",
       "\n",
       "    .dataframe tbody tr th {\n",
       "        vertical-align: top;\n",
       "    }\n",
       "\n",
       "    .dataframe thead th {\n",
       "        text-align: right;\n",
       "    }\n",
       "</style>\n",
       "<table border=\"1\" class=\"dataframe\">\n",
       "  <thead>\n",
       "    <tr style=\"text-align: right;\">\n",
       "      <th></th>\n",
       "      <th>Prediction</th>\n",
       "      <th>Target</th>\n",
       "      <th>Residual</th>\n",
       "      <th>Differences%</th>\n",
       "    </tr>\n",
       "  </thead>\n",
       "  <tbody>\n",
       "    <tr>\n",
       "      <th>0</th>\n",
       "      <td>0.23</td>\n",
       "      <td>1.13</td>\n",
       "      <td>0.91</td>\n",
       "      <td>79.93</td>\n",
       "    </tr>\n",
       "    <tr>\n",
       "      <th>1</th>\n",
       "      <td>0.17</td>\n",
       "      <td>1.13</td>\n",
       "      <td>0.96</td>\n",
       "      <td>85.12</td>\n",
       "    </tr>\n",
       "    <tr>\n",
       "      <th>2</th>\n",
       "      <td>0.13</td>\n",
       "      <td>1.16</td>\n",
       "      <td>1.04</td>\n",
       "      <td>89.20</td>\n",
       "    </tr>\n",
       "    <tr>\n",
       "      <th>3</th>\n",
       "      <td>0.25</td>\n",
       "      <td>1.43</td>\n",
       "      <td>1.17</td>\n",
       "      <td>82.30</td>\n",
       "    </tr>\n",
       "    <tr>\n",
       "      <th>4</th>\n",
       "      <td>0.23</td>\n",
       "      <td>1.19</td>\n",
       "      <td>0.96</td>\n",
       "      <td>80.92</td>\n",
       "    </tr>\n",
       "    <tr>\n",
       "      <th>...</th>\n",
       "      <td>...</td>\n",
       "      <td>...</td>\n",
       "      <td>...</td>\n",
       "      <td>...</td>\n",
       "    </tr>\n",
       "    <tr>\n",
       "      <th>109058</th>\n",
       "      <td>0.14</td>\n",
       "      <td>1.12</td>\n",
       "      <td>0.98</td>\n",
       "      <td>87.56</td>\n",
       "    </tr>\n",
       "    <tr>\n",
       "      <th>109059</th>\n",
       "      <td>0.18</td>\n",
       "      <td>1.10</td>\n",
       "      <td>0.93</td>\n",
       "      <td>84.06</td>\n",
       "    </tr>\n",
       "    <tr>\n",
       "      <th>109060</th>\n",
       "      <td>0.51</td>\n",
       "      <td>1.64</td>\n",
       "      <td>1.13</td>\n",
       "      <td>68.73</td>\n",
       "    </tr>\n",
       "    <tr>\n",
       "      <th>109061</th>\n",
       "      <td>0.44</td>\n",
       "      <td>1.39</td>\n",
       "      <td>0.95</td>\n",
       "      <td>68.56</td>\n",
       "    </tr>\n",
       "    <tr>\n",
       "      <th>109062</th>\n",
       "      <td>0.29</td>\n",
       "      <td>1.23</td>\n",
       "      <td>0.94</td>\n",
       "      <td>76.54</td>\n",
       "    </tr>\n",
       "  </tbody>\n",
       "</table>\n",
       "<p>109063 rows × 4 columns</p>\n",
       "</div>"
      ],
      "text/plain": [
       "        Prediction  Target  Residual  Differences%\n",
       "0             0.23    1.13      0.91         79.93\n",
       "1             0.17    1.13      0.96         85.12\n",
       "2             0.13    1.16      1.04         89.20\n",
       "3             0.25    1.43      1.17         82.30\n",
       "4             0.23    1.19      0.96         80.92\n",
       "...            ...     ...       ...           ...\n",
       "109058        0.14    1.12      0.98         87.56\n",
       "109059        0.18    1.10      0.93         84.06\n",
       "109060        0.51    1.64      1.13         68.73\n",
       "109061        0.44    1.39      0.95         68.56\n",
       "109062        0.29    1.23      0.94         76.54\n",
       "\n",
       "[109063 rows x 4 columns]"
      ]
     },
     "execution_count": 71,
     "metadata": {},
     "output_type": "execute_result"
    }
   ],
   "source": [
    "pd.options.display.max_rows = 999\n",
    "pd.set_option('display.float_format', lambda x : '%.2f' % x)\n",
    "df_pf\n",
    "#df_pf.sort_values(by=['Differences%'])"
   ]
  },
  {
   "cell_type": "code",
   "execution_count": null,
   "id": "dbc2240a",
   "metadata": {},
   "outputs": [],
   "source": []
  }
 ],
 "metadata": {
  "kernelspec": {
   "display_name": "Python 3 (ipykernel)",
   "language": "python",
   "name": "python3"
  },
  "language_info": {
   "codemirror_mode": {
    "name": "ipython",
    "version": 3
   },
   "file_extension": ".py",
   "mimetype": "text/x-python",
   "name": "python",
   "nbconvert_exporter": "python",
   "pygments_lexer": "ipython3",
   "version": "3.9.7"
  }
 },
 "nbformat": 4,
 "nbformat_minor": 5
}
